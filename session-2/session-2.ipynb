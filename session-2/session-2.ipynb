{
 "cells": [
  {
   "cell_type": "code",
   "execution_count": 1,
   "metadata": {},
   "outputs": [
    {
     "name": "stdout",
     "output_type": "stream",
     "text": [
      "hello world\n"
     ]
    }
   ],
   "source": [
    "print('hello world')"
   ]
  },
  {
   "cell_type": "code",
   "execution_count": 2,
   "metadata": {},
   "outputs": [
    {
     "data": {
      "text/plain": [
       "5"
      ]
     },
     "execution_count": 2,
     "metadata": {},
     "output_type": "execute_result"
    }
   ],
   "source": [
    "2+3"
   ]
  },
  {
   "cell_type": "code",
   "execution_count": 3,
   "metadata": {},
   "outputs": [],
   "source": [
    "a = 2\n",
    "b = 12.67\n",
    "c = 12 + 67j"
   ]
  },
  {
   "cell_type": "code",
   "execution_count": 4,
   "metadata": {},
   "outputs": [
    {
     "name": "stdout",
     "output_type": "stream",
     "text": [
      "2\n",
      "12.67\n",
      "(12+67j)\n"
     ]
    }
   ],
   "source": [
    "print(a)\n",
    "print(b)\n",
    "print(c)"
   ]
  },
  {
   "cell_type": "code",
   "execution_count": 5,
   "metadata": {},
   "outputs": [
    {
     "name": "stdout",
     "output_type": "stream",
     "text": [
      "<class 'int'>\n",
      "<class 'float'>\n",
      "<class 'complex'>\n"
     ]
    }
   ],
   "source": [
    "print(type(a))\n",
    "print(type(b))\n",
    "print(type(c))"
   ]
  },
  {
   "cell_type": "code",
   "execution_count": 6,
   "metadata": {},
   "outputs": [
    {
     "name": "stdout",
     "output_type": "stream",
     "text": [
      "Riya\n",
      "<class 'str'>\n"
     ]
    }
   ],
   "source": [
    "string1 = \"Riya\"\n",
    "print(string1)\n",
    "print(type(string1))"
   ]
  },
  {
   "cell_type": "code",
   "execution_count": 7,
   "metadata": {},
   "outputs": [
    {
     "name": "stdout",
     "output_type": "stream",
     "text": [
      "['R', 'i', 'y', 'a']\n"
     ]
    }
   ],
   "source": [
    "list_str = list(string1)\n",
    "print(list_str)"
   ]
  },
  {
   "cell_type": "code",
   "execution_count": 8,
   "metadata": {},
   "outputs": [
    {
     "name": "stdout",
     "output_type": "stream",
     "text": [
      "['Riya', 'Jacob', 'Bibhuti', 'Mounika']\n"
     ]
    }
   ],
   "source": [
    "list_attend = [\"Riya\", \"Jacob\", \"Bibhuti\", \"Mounika\"]\n",
    "print(list_attend)"
   ]
  },
  {
   "cell_type": "code",
   "execution_count": 9,
   "metadata": {},
   "outputs": [
    {
     "name": "stdout",
     "output_type": "stream",
     "text": [
      "['One', 2, 'Three', 3, 4]\n"
     ]
    }
   ],
   "source": [
    "# lists are mutable\n",
    "list_num = [\"One\", 2, \"Three\", 3, 4]\n",
    "print(list_num)"
   ]
  },
  {
   "cell_type": "code",
   "execution_count": 10,
   "metadata": {},
   "outputs": [
    {
     "name": "stdout",
     "output_type": "stream",
     "text": [
      "('R', 'i', 'y', 'a')\n"
     ]
    }
   ],
   "source": [
    "# tuples are immutable\n",
    "tuple_str = tuple(string1)\n",
    "print(tuple_str)"
   ]
  },
  {
   "cell_type": "code",
   "execution_count": 11,
   "metadata": {},
   "outputs": [
    {
     "name": "stdout",
     "output_type": "stream",
     "text": [
      "('One', 1, 'Two', 2, 3)\n"
     ]
    }
   ],
   "source": [
    "tuple_num = (\"One\", 1, \"Two\", 2 , 3)\n",
    "print(tuple_num)"
   ]
  },
  {
   "cell_type": "code",
   "execution_count": 12,
   "metadata": {},
   "outputs": [],
   "source": [
    "list_num.append(5)"
   ]
  },
  {
   "cell_type": "code",
   "execution_count": 13,
   "metadata": {},
   "outputs": [
    {
     "name": "stdout",
     "output_type": "stream",
     "text": [
      "['One', 2, 'Three', 3, 4, 5]\n"
     ]
    }
   ],
   "source": [
    "print(list_num)"
   ]
  },
  {
   "cell_type": "code",
   "execution_count": 14,
   "metadata": {},
   "outputs": [],
   "source": [
    "tuple_num2 = tuple_num + tuple('trying to add new element')"
   ]
  },
  {
   "cell_type": "code",
   "execution_count": 15,
   "metadata": {},
   "outputs": [
    {
     "data": {
      "text/plain": [
       "('One',\n",
       " 1,\n",
       " 'Two',\n",
       " 2,\n",
       " 3,\n",
       " 't',\n",
       " 'r',\n",
       " 'y',\n",
       " 'i',\n",
       " 'n',\n",
       " 'g',\n",
       " ' ',\n",
       " 't',\n",
       " 'o',\n",
       " ' ',\n",
       " 'a',\n",
       " 'd',\n",
       " 'd',\n",
       " ' ',\n",
       " 'n',\n",
       " 'e',\n",
       " 'w',\n",
       " ' ',\n",
       " 'e',\n",
       " 'l',\n",
       " 'e',\n",
       " 'm',\n",
       " 'e',\n",
       " 'n',\n",
       " 't')"
      ]
     },
     "execution_count": 15,
     "metadata": {},
     "output_type": "execute_result"
    }
   ],
   "source": [
    "tuple_num2"
   ]
  },
  {
   "cell_type": "code",
   "execution_count": 16,
   "metadata": {},
   "outputs": [
    {
     "data": {
      "text/plain": [
       "4"
      ]
     },
     "execution_count": 16,
     "metadata": {},
     "output_type": "execute_result"
    }
   ],
   "source": [
    "tuple_num2.count(' ')"
   ]
  },
  {
   "cell_type": "code",
   "execution_count": 17,
   "metadata": {},
   "outputs": [
    {
     "data": {
      "text/plain": [
       "'One'"
      ]
     },
     "execution_count": 17,
     "metadata": {},
     "output_type": "execute_result"
    }
   ],
   "source": [
    "tuple_num2[0]"
   ]
  },
  {
   "cell_type": "code",
   "execution_count": 18,
   "metadata": {},
   "outputs": [
    {
     "data": {
      "text/plain": [
       "('t',\n",
       " 'n',\n",
       " 'e',\n",
       " 'm',\n",
       " 'e',\n",
       " 'l',\n",
       " 'e',\n",
       " ' ',\n",
       " 'w',\n",
       " 'e',\n",
       " 'n',\n",
       " ' ',\n",
       " 'd',\n",
       " 'd',\n",
       " 'a',\n",
       " ' ',\n",
       " 'o',\n",
       " 't',\n",
       " ' ',\n",
       " 'g',\n",
       " 'n',\n",
       " 'i',\n",
       " 'y',\n",
       " 'r',\n",
       " 't',\n",
       " 3,\n",
       " 2,\n",
       " 'Two',\n",
       " 1,\n",
       " 'One')"
      ]
     },
     "execution_count": 18,
     "metadata": {},
     "output_type": "execute_result"
    }
   ],
   "source": [
    "tuple_num2[-1::-1]"
   ]
  },
  {
   "cell_type": "code",
   "execution_count": 19,
   "metadata": {},
   "outputs": [
    {
     "data": {
      "text/plain": [
       "30"
      ]
     },
     "execution_count": 19,
     "metadata": {},
     "output_type": "execute_result"
    }
   ],
   "source": [
    "len(tuple_num2)"
   ]
  },
  {
   "cell_type": "code",
   "execution_count": 20,
   "metadata": {},
   "outputs": [
    {
     "data": {
      "text/plain": [
       "12"
      ]
     },
     "execution_count": 20,
     "metadata": {},
     "output_type": "execute_result"
    }
   ],
   "source": [
    "# tuples are immutable\n",
    "tuple_num2.index('t',6,30)"
   ]
  },
  {
   "cell_type": "code",
   "execution_count": 21,
   "metadata": {},
   "outputs": [],
   "source": [
    "list_attend.count('Jacob')\n",
    "list_attend.append(['Harsh', 'Jacob'])"
   ]
  },
  {
   "cell_type": "code",
   "execution_count": 22,
   "metadata": {},
   "outputs": [
    {
     "data": {
      "text/plain": [
       "['Riya', 'Jacob', 'Bibhuti', 'Mounika', ['Harsh', 'Jacob']]"
      ]
     },
     "execution_count": 22,
     "metadata": {},
     "output_type": "execute_result"
    }
   ],
   "source": [
    "list_attend"
   ]
  },
  {
   "cell_type": "code",
   "execution_count": 23,
   "metadata": {},
   "outputs": [
    {
     "data": {
      "text/plain": [
       "['Riya', 'Jacob', 'Bibhuti', 'Mounika']"
      ]
     },
     "execution_count": 23,
     "metadata": {},
     "output_type": "execute_result"
    }
   ],
   "source": [
    "# lists are mutable\n",
    "list_attend.pop()\n",
    "list_attend"
   ]
  },
  {
   "cell_type": "code",
   "execution_count": 24,
   "metadata": {},
   "outputs": [],
   "source": [
    "list_attend.append('Harsh')\n",
    "list_attend.append('Jacob')"
   ]
  },
  {
   "cell_type": "code",
   "execution_count": 25,
   "metadata": {},
   "outputs": [
    {
     "data": {
      "text/plain": [
       "['Riya', 'Jacob', 'Bibhuti', 'Mounika', 'Harsh', 'Jacob']"
      ]
     },
     "execution_count": 25,
     "metadata": {},
     "output_type": "execute_result"
    }
   ],
   "source": [
    "list_attend"
   ]
  },
  {
   "cell_type": "code",
   "execution_count": 26,
   "metadata": {},
   "outputs": [
    {
     "data": {
      "text/plain": [
       "2"
      ]
     },
     "execution_count": 26,
     "metadata": {},
     "output_type": "execute_result"
    }
   ],
   "source": [
    "list_attend.count('Jacob')"
   ]
  },
  {
   "cell_type": "code",
   "execution_count": 27,
   "metadata": {},
   "outputs": [
    {
     "ename": "ValueError",
     "evalue": "'Mounik' is not in list",
     "output_type": "error",
     "traceback": [
      "\u001b[1;31m---------------------------------------------------------------------------\u001b[0m",
      "\u001b[1;31mValueError\u001b[0m                                Traceback (most recent call last)",
      "Cell \u001b[1;32mIn[27], line 1\u001b[0m\n\u001b[1;32m----> 1\u001b[0m \u001b[43mlist_attend\u001b[49m\u001b[38;5;241;43m.\u001b[39;49m\u001b[43mindex\u001b[49m\u001b[43m(\u001b[49m\u001b[38;5;124;43m'\u001b[39;49m\u001b[38;5;124;43mMounik\u001b[39;49m\u001b[38;5;124;43m'\u001b[39;49m\u001b[43m)\u001b[49m\n",
      "\u001b[1;31mValueError\u001b[0m: 'Mounik' is not in list"
     ]
    }
   ],
   "source": [
    "list_attend.index('Mounik')"
   ]
  },
  {
   "cell_type": "code",
   "execution_count": 87,
   "metadata": {},
   "outputs": [
    {
     "data": {
      "text/plain": [
       "6"
      ]
     },
     "execution_count": 87,
     "metadata": {},
     "output_type": "execute_result"
    }
   ],
   "source": [
    "len(list_attend)"
   ]
  },
  {
   "cell_type": "code",
   "execution_count": 88,
   "metadata": {},
   "outputs": [
    {
     "data": {
      "text/plain": [
       "[]"
      ]
     },
     "execution_count": 88,
     "metadata": {},
     "output_type": "execute_result"
    }
   ],
   "source": [
    "list_attend.clear()\n",
    "list_attend"
   ]
  },
  {
   "cell_type": "code",
   "execution_count": 89,
   "metadata": {},
   "outputs": [],
   "source": [
    "list_attend = ['Riya', 'Jacob', 'Bibhuti', 'Mounika', 'Harsh', 'Jacob']"
   ]
  },
  {
   "cell_type": "code",
   "execution_count": 90,
   "metadata": {},
   "outputs": [
    {
     "data": {
      "text/plain": [
       "['Riya', 'Jacob', 'Bibhuti', 'Mounika', 'Harsh', 'Jacob']"
      ]
     },
     "execution_count": 90,
     "metadata": {},
     "output_type": "execute_result"
    }
   ],
   "source": [
    "list_attend"
   ]
  },
  {
   "cell_type": "code",
   "execution_count": 91,
   "metadata": {},
   "outputs": [
    {
     "data": {
      "text/plain": [
       "['Riya', 'Bibhuti', 'Mounika', 'Harsh', 'Jacob']"
      ]
     },
     "execution_count": 91,
     "metadata": {},
     "output_type": "execute_result"
    }
   ],
   "source": [
    "list_attend.pop(1)\n",
    "list_attend"
   ]
  },
  {
   "cell_type": "code",
   "execution_count": 92,
   "metadata": {},
   "outputs": [
    {
     "data": {
      "text/plain": [
       "['Riya', 'Bibhuti', 'Harsh', 'Jacob']"
      ]
     },
     "execution_count": 92,
     "metadata": {},
     "output_type": "execute_result"
    }
   ],
   "source": [
    "list_attend.remove('Mounika')\n",
    "list_attend"
   ]
  },
  {
   "cell_type": "code",
   "execution_count": 94,
   "metadata": {},
   "outputs": [
    {
     "data": {
      "text/plain": [
       "'Jacob'"
      ]
     },
     "execution_count": 94,
     "metadata": {},
     "output_type": "execute_result"
    }
   ],
   "source": [
    "list_attend.pop(-1)"
   ]
  },
  {
   "cell_type": "code",
   "execution_count": 95,
   "metadata": {},
   "outputs": [
    {
     "data": {
      "text/plain": [
       "['Riya', 'Bibhuti', 'Harsh']"
      ]
     },
     "execution_count": 95,
     "metadata": {},
     "output_type": "execute_result"
    }
   ],
   "source": [
    "list_attend"
   ]
  },
  {
   "cell_type": "code",
   "execution_count": 96,
   "metadata": {},
   "outputs": [
    {
     "ename": "ValueError",
     "evalue": "list.remove(x): x not in list",
     "output_type": "error",
     "traceback": [
      "\u001b[1;31m---------------------------------------------------------------------------\u001b[0m",
      "\u001b[1;31mValueError\u001b[0m                                Traceback (most recent call last)",
      "Cell \u001b[1;32mIn[96], line 1\u001b[0m\n\u001b[1;32m----> 1\u001b[0m \u001b[43mlist_attend\u001b[49m\u001b[38;5;241;43m.\u001b[39;49m\u001b[43mremove\u001b[49m\u001b[43m(\u001b[49m\u001b[38;5;124;43m'\u001b[39;49m\u001b[38;5;124;43mManish\u001b[39;49m\u001b[38;5;124;43m'\u001b[39;49m\u001b[43m)\u001b[49m\n",
      "\u001b[1;31mValueError\u001b[0m: list.remove(x): x not in list"
     ]
    }
   ],
   "source": [
    "list_attend.remove('Manish')"
   ]
  },
  {
   "cell_type": "code",
   "execution_count": 98,
   "metadata": {},
   "outputs": [
    {
     "data": {
      "text/plain": [
       "['Riya', 'Bibhuti', 'Harsh']"
      ]
     },
     "execution_count": 98,
     "metadata": {},
     "output_type": "execute_result"
    }
   ],
   "source": [
    "list_attend"
   ]
  },
  {
   "cell_type": "code",
   "execution_count": 103,
   "metadata": {},
   "outputs": [
    {
     "data": {
      "text/plain": [
       "['Manish', 'Bijay', 'Rishi', 'Shivani', 'Akhilesh', 'Meghna']"
      ]
     },
     "execution_count": 103,
     "metadata": {},
     "output_type": "execute_result"
    }
   ],
   "source": [
    "list_attendees = [\"Manish\", \"Bijay\", \"Rishi\", \"Shivani\", \"Akhilesh\", \"Meghna\"]\n",
    "list_attendees"
   ]
  },
  {
   "cell_type": "code",
   "execution_count": 104,
   "metadata": {},
   "outputs": [],
   "source": [
    "list_attendees.extend(list_attend)"
   ]
  },
  {
   "cell_type": "code",
   "execution_count": 105,
   "metadata": {},
   "outputs": [
    {
     "data": {
      "text/plain": [
       "['Manish',\n",
       " 'Bijay',\n",
       " 'Rishi',\n",
       " 'Shivani',\n",
       " 'Akhilesh',\n",
       " 'Meghna',\n",
       " 'Riya',\n",
       " 'Bibhuti',\n",
       " 'Harsh']"
      ]
     },
     "execution_count": 105,
     "metadata": {},
     "output_type": "execute_result"
    }
   ],
   "source": [
    "list_attendees"
   ]
  },
  {
   "cell_type": "code",
   "execution_count": 106,
   "metadata": {},
   "outputs": [],
   "source": [
    "list_attendees.reverse()"
   ]
  },
  {
   "cell_type": "code",
   "execution_count": 107,
   "metadata": {},
   "outputs": [
    {
     "data": {
      "text/plain": [
       "['Harsh',\n",
       " 'Bibhuti',\n",
       " 'Riya',\n",
       " 'Meghna',\n",
       " 'Akhilesh',\n",
       " 'Shivani',\n",
       " 'Rishi',\n",
       " 'Bijay',\n",
       " 'Manish']"
      ]
     },
     "execution_count": 107,
     "metadata": {},
     "output_type": "execute_result"
    }
   ],
   "source": [
    "list_attendees"
   ]
  },
  {
   "cell_type": "code",
   "execution_count": 110,
   "metadata": {},
   "outputs": [],
   "source": [
    "list_attendees.sort(reverse=True)"
   ]
  },
  {
   "cell_type": "code",
   "execution_count": 111,
   "metadata": {},
   "outputs": [
    {
     "data": {
      "text/plain": [
       "['Shivani',\n",
       " 'Riya',\n",
       " 'Rishi',\n",
       " 'Meghna',\n",
       " 'Manish',\n",
       " 'Harsh',\n",
       " 'Bijay',\n",
       " 'Bibhuti',\n",
       " 'Akhilesh']"
      ]
     },
     "execution_count": 111,
     "metadata": {},
     "output_type": "execute_result"
    }
   ],
   "source": [
    "list_attendees"
   ]
  },
  {
   "cell_type": "markdown",
   "metadata": {},
   "source": [
    "Sequence Types:\n",
    "Which of the following is not a sequence type in Python?\n",
    "\n",
    "a) List\n",
    "b) Tuple\n",
    "c) Set\n",
    "d) String\n",
    "answer: c\n",
    "\n",
    "What will be the output of the following code?\n",
    "\n",
    "my_list = [1, 2, 3, 4]\n",
    "print(my_list[1:3])\n",
    "a) [1, 2]\n",
    "b) [2, 3]\n",
    "c) [1, 2, 3]\n",
    "d) [2, 3, 4]\n",
    "answer: b\n",
    "\n",
    "Which method is used to add an item to the end of a list?\n",
    "\n",
    "a) insert()\n",
    "b) append()\n",
    "c) extend()\n",
    "d) add()\n",
    "answer: b\n",
    "\n",
    "What will be the output of the following code?\n",
    "\n",
    "tuple_example = (1, 2, 3)\n",
    "tuple_example[1] = 4\n",
    "print(tuple_example)\n",
    "a) (1, 4, 3)\n",
    "b) (1, 2, 3)\n",
    "c) Error, tuples are immutable\n",
    "d) (4, 2, 3)\n",
    "answer: c\n",
    "\n",
    "Which of the following is a mutable sequence type in Python?\n",
    "\n",
    "a) String\n",
    "b) Tuple\n",
    "c) List\n",
    "d) None of the above\n",
    "answer: c\n",
    "\n",
    "Numeric Types:\n",
    "Which of the following is the correct result of dividing 7 by 2 in Python 3?\n",
    "\n",
    "a) 3\n",
    "b) 3.0\n",
    "c) 3.5\n",
    "d) 4\n",
    "answer: c\n",
    "\n",
    "Which of the following Python types would store the value 3.14?\n",
    "\n",
    "a) int\n",
    "b) float\n",
    "c) complex\n",
    "d) str\n",
    "answer: b\n",
    "\n",
    "What will be the output of the following code?\n",
    "\n",
    "x = 5\n",
    "y = 2\n",
    "print(x // y)\n",
    "a) 2.5\n",
    "b) 3\n",
    "c) 2\n",
    "d) 2.0\n",
    "answer: c\n",
    "\n",
    "How do you convert a float to an integer in Python?\n",
    "\n",
    "a) int(float_value)\n",
    "b) float(int_value)\n",
    "c) round(float_value)\n",
    "d) str(float_value)\n",
    "answer: a\n",
    "\n",
    "Which of the following is used to calculate the square root of a number in Python?\n",
    "\n",
    "a) sqrt()\n",
    "b) pow()\n",
    "c) round()\n",
    "d) math.sqrt()\n",
    "answer: d"
   ]
  },
  {
   "cell_type": "code",
   "execution_count": 133,
   "metadata": {},
   "outputs": [
    {
     "data": {
      "text/plain": [
       "[-1, -2, -3, -4, -5, -6, -7, -8, -9]"
      ]
     },
     "execution_count": 133,
     "metadata": {},
     "output_type": "execute_result"
    }
   ],
   "source": [
    "list_num = list(range(-1,-10,-1))\n",
    "list_num"
   ]
  },
  {
   "cell_type": "code",
   "execution_count": 125,
   "metadata": {},
   "outputs": [
    {
     "data": {
      "text/plain": [
       "9"
      ]
     },
     "execution_count": 125,
     "metadata": {},
     "output_type": "execute_result"
    }
   ],
   "source": [
    "len(list_num)"
   ]
  },
  {
   "cell_type": "code",
   "execution_count": 33,
   "metadata": {},
   "outputs": [
    {
     "data": {
      "text/plain": [
       "-1"
      ]
     },
     "execution_count": 33,
     "metadata": {},
     "output_type": "execute_result"
    }
   ],
   "source": [
    "str1 = \"this is an \\\"example\\\" string with single qoutes\"\n",
    "word = \"is\"\n",
    "str1.find(word,6)\n"
   ]
  },
  {
   "cell_type": "code",
   "execution_count": 35,
   "metadata": {},
   "outputs": [
    {
     "data": {
      "text/plain": [
       "2"
      ]
     },
     "execution_count": 35,
     "metadata": {},
     "output_type": "execute_result"
    }
   ],
   "source": [
    "str1.index(word, 1)"
   ]
  },
  {
   "cell_type": "code",
   "execution_count": 163,
   "metadata": {},
   "outputs": [
    {
     "data": {
      "text/plain": [
       "'This is an \"example\" string with single qoutes'"
      ]
     },
     "execution_count": 163,
     "metadata": {},
     "output_type": "execute_result"
    }
   ],
   "source": [
    "str1.capitalize()"
   ]
  },
  {
   "cell_type": "code",
   "execution_count": 167,
   "metadata": {},
   "outputs": [
    {
     "data": {
      "text/plain": [
       "'ti '"
      ]
     },
     "execution_count": 167,
     "metadata": {},
     "output_type": "execute_result"
    }
   ],
   "source": [
    "str1[:6:2]"
   ]
  },
  {
   "cell_type": "code",
   "execution_count": 169,
   "metadata": {},
   "outputs": [
    {
     "data": {
      "text/plain": [
       "True"
      ]
     },
     "execution_count": 169,
     "metadata": {},
     "output_type": "execute_result"
    }
   ],
   "source": [
    "st1 = 'Harsh'\n",
    "st2 = 'harsh'\n",
    "st1.casefold() == st2"
   ]
  },
  {
   "cell_type": "code",
   "execution_count": 170,
   "metadata": {},
   "outputs": [
    {
     "name": "stdout",
     "output_type": "stream",
     "text": [
      "Harsh 25\n",
      "Akhilesh 26\n"
     ]
    }
   ],
   "source": [
    "st2 = 'Akhilesh'\n",
    "st1 = 'Harsh'\n",
    "age1 = '25'\n",
    "age2 = '26'\n",
    "print(st1+\" \"+age1)\n",
    "print(st2+\" \"+age2)"
   ]
  },
  {
   "cell_type": "code",
   "execution_count": 171,
   "metadata": {},
   "outputs": [
    {
     "name": "stdout",
     "output_type": "stream",
     "text": [
      "  Harsh    25\n",
      " Akhilesh  26\n"
     ]
    }
   ],
   "source": [
    "max_ch =10\n",
    "st1 = st1.center(10)\n",
    "st2 = st2.center(10)\n",
    "print(st1+\" \"+age1)\n",
    "print(st2+\" \"+age2)"
   ]
  },
  {
   "cell_type": "code",
   "execution_count": 173,
   "metadata": {},
   "outputs": [
    {
     "data": {
      "text/plain": [
       "0"
      ]
     },
     "execution_count": 173,
     "metadata": {},
     "output_type": "execute_result"
    }
   ],
   "source": [
    "str1.count(\"z\")"
   ]
  },
  {
   "cell_type": "code",
   "execution_count": 29,
   "metadata": {},
   "outputs": [],
   "source": [
    "str_rupee = \"0x20B9\"\n",
    "# str_rupee = \"\\xe2\\x82\\xb9\""
   ]
  },
  {
   "cell_type": "code",
   "execution_count": 31,
   "metadata": {},
   "outputs": [
    {
     "name": "stdout",
     "output_type": "stream",
     "text": [
      "0x20B9\n"
     ]
    }
   ],
   "source": [
    "print(str_rupee)"
   ]
  },
  {
   "cell_type": "code",
   "execution_count": 37,
   "metadata": {},
   "outputs": [
    {
     "data": {
      "text/plain": [
       "'THIS IS AN \"EXAMPLE\" STRING WITH SINGLE QOUTES'"
      ]
     },
     "execution_count": 37,
     "metadata": {},
     "output_type": "execute_result"
    }
   ],
   "source": [
    "str1.upper()"
   ]
  },
  {
   "cell_type": "code",
   "execution_count": 38,
   "metadata": {},
   "outputs": [
    {
     "data": {
      "text/plain": [
       "'this is an \"example\" string with single qoutes'"
      ]
     },
     "execution_count": 38,
     "metadata": {},
     "output_type": "execute_result"
    }
   ],
   "source": [
    "str1.lower()"
   ]
  },
  {
   "cell_type": "code",
   "execution_count": 39,
   "metadata": {},
   "outputs": [
    {
     "data": {
      "text/plain": [
       "'This Is An \"Example\" String With Single Qoutes'"
      ]
     },
     "execution_count": 39,
     "metadata": {},
     "output_type": "execute_result"
    }
   ],
   "source": [
    "str1.title()"
   ]
  },
  {
   "cell_type": "code",
   "execution_count": 42,
   "metadata": {},
   "outputs": [
    {
     "data": {
      "text/plain": [
       "True"
      ]
     },
     "execution_count": 42,
     "metadata": {},
     "output_type": "execute_result"
    }
   ],
   "source": [
    "filename = \"my_assignment_file.txt\"\n",
    "filename.endswith(\"_file.txt\")"
   ]
  },
  {
   "cell_type": "code",
   "execution_count": 55,
   "metadata": {},
   "outputs": [
    {
     "name": "stdout",
     "output_type": "stream",
     "text": [
      "x=10\n",
      "if x == 0:\n",
      "    print('yes')\n",
      "else:\n",
      "    print('no')\n"
     ]
    }
   ],
   "source": [
    "str1=\"\"\"x=10\n",
    "if x == 0:\n",
    "\\tprint('yes')\n",
    "else:\n",
    "\\tprint('no')\"\"\"\n",
    "print(str1.expandtabs(4))"
   ]
  },
  {
   "cell_type": "code",
   "execution_count": 56,
   "metadata": {},
   "outputs": [
    {
     "data": {
      "text/plain": [
       "\"x=10\\nif x == 0:\\n\\tprint('yes')\\nelse:\\n\\tprint('no')\""
      ]
     },
     "execution_count": 56,
     "metadata": {},
     "output_type": "execute_result"
    }
   ],
   "source": [
    "str1"
   ]
  },
  {
   "cell_type": "code",
   "execution_count": 59,
   "metadata": {},
   "outputs": [
    {
     "data": {
      "text/plain": [
       "\"x=10\\nif x == 0:\\n  print('yes')\\nelse:\\n  print('no')\""
      ]
     },
     "execution_count": 59,
     "metadata": {},
     "output_type": "execute_result"
    }
   ],
   "source": [
    "str1.expandtabs(2)"
   ]
  },
  {
   "cell_type": "code",
   "execution_count": 65,
   "metadata": {},
   "outputs": [],
   "source": [
    "test_string = \"today is {}. date: {}\"\n",
    "week_day = 'friday'\n",
    "date = '2025-02-14'"
   ]
  },
  {
   "cell_type": "code",
   "execution_count": 66,
   "metadata": {},
   "outputs": [
    {
     "data": {
      "text/plain": [
       "'today is friday. date: 2025-02-14'"
      ]
     },
     "execution_count": 66,
     "metadata": {},
     "output_type": "execute_result"
    }
   ],
   "source": [
    "test_string.format(week_day,date)"
   ]
  },
  {
   "cell_type": "code",
   "execution_count": 67,
   "metadata": {},
   "outputs": [],
   "source": [
    "test_string = f\"today is {week_day}. date: {date}\""
   ]
  },
  {
   "cell_type": "code",
   "execution_count": 68,
   "metadata": {},
   "outputs": [
    {
     "data": {
      "text/plain": [
       "'today is friday. date: 2025-02-14'"
      ]
     },
     "execution_count": 68,
     "metadata": {},
     "output_type": "execute_result"
    }
   ],
   "source": [
    "test_string"
   ]
  },
  {
   "cell_type": "code",
   "execution_count": 91,
   "metadata": {},
   "outputs": [
    {
     "data": {
      "text/plain": [
       "'test percentage = 38.83%'"
      ]
     },
     "execution_count": 91,
     "metadata": {},
     "output_type": "execute_result"
    }
   ],
   "source": [
    "per = 0.3882767\n",
    "example_num = \"test percentage = {:.2%}\"\n",
    "example_num.format(per)"
   ]
  },
  {
   "cell_type": "code",
   "execution_count": 107,
   "metadata": {},
   "outputs": [
    {
     "name": "stdout",
     "output_type": "stream",
     "text": [
      "valid number\n"
     ]
    }
   ],
   "source": [
    "# should only accept mobile numbers\n",
    "# - only numeric characters ✓\n",
    "# - it should have ten digits ✓\n",
    "# - it should have county code (+91) ✓\n",
    "input_field = input(\"Enter a number:\")\n",
    "input_field = input_field.strip()\n",
    "if input_field[3:].isdecimal() and len(input_field[3:]) == 10 and input_field.startswith('+91'):\n",
    "    print(\"valid number\")\n",
    "else:\n",
    "    print(\"invalid number\")"
   ]
  },
  {
   "cell_type": "code",
   "execution_count": 102,
   "metadata": {},
   "outputs": [
    {
     "data": {
      "text/plain": [
       "True"
      ]
     },
     "execution_count": 102,
     "metadata": {},
     "output_type": "execute_result"
    }
   ],
   "source": [
    "\"+911234567890\"[3:].isdecimal()"
   ]
  },
  {
   "cell_type": "code",
   "execution_count": 103,
   "metadata": {},
   "outputs": [
    {
     "data": {
      "text/plain": [
       "10"
      ]
     },
     "execution_count": 103,
     "metadata": {},
     "output_type": "execute_result"
    }
   ],
   "source": [
    "len(\"+911234567890\"[3:])"
   ]
  },
  {
   "cell_type": "code",
   "execution_count": null,
   "metadata": {},
   "outputs": [],
   "source": [
    "# join\n",
    "# split\n",
    "# replace"
   ]
  },
  {
   "cell_type": "code",
   "execution_count": 122,
   "metadata": {},
   "outputs": [
    {
     "name": "stdout",
     "output_type": "stream",
     "text": [
      "<class 'str'>\n",
      "sat|sun|mon|tue|wed|thu|fri\n"
     ]
    }
   ],
   "source": [
    "week_day_list = ('sat','sun','mon','tue','wed','thu','fri')\n",
    "\n",
    "week_day_str = '|'.join(week_day_list)\n",
    "print(type(week_day_str))\n",
    "print(week_day_str)"
   ]
  },
  {
   "cell_type": "code",
   "execution_count": 124,
   "metadata": {},
   "outputs": [
    {
     "name": "stdout",
     "output_type": "stream",
     "text": [
      "<class 'list'>\n",
      "['sat', 'sun', 'mon|tue|wed|thu|fri']\n"
     ]
    }
   ],
   "source": [
    "week_day_list1 = week_day_str.split('|',2)\n",
    "print(type(week_day_list1))\n",
    "print(week_day_list1)"
   ]
  },
  {
   "cell_type": "code",
   "execution_count": 125,
   "metadata": {},
   "outputs": [
    {
     "name": "stdout",
     "output_type": "stream",
     "text": [
      "saturday|sun|mon|tue|wed|thu|fri\n"
     ]
    }
   ],
   "source": [
    "week_day_str = week_day_str.replace('sat','saturday')\n",
    "print(week_day_str)"
   ]
  },
  {
   "cell_type": "code",
   "execution_count": 126,
   "metadata": {},
   "outputs": [
    {
     "data": {
      "text/plain": [
       "'saturday|sunday|mon|tue|wed|thu|fri'"
      ]
     },
     "execution_count": 126,
     "metadata": {},
     "output_type": "execute_result"
    }
   ],
   "source": [
    "week_day_str = week_day_str.replace('sun','sunday')\n",
    "week_day_str"
   ]
  },
  {
   "cell_type": "code",
   "execution_count": 127,
   "metadata": {},
   "outputs": [
    {
     "data": {
      "text/plain": [
       "'saturday|sundayday|mon|tue|wed|thu|fri'"
      ]
     },
     "execution_count": 127,
     "metadata": {},
     "output_type": "execute_result"
    }
   ],
   "source": [
    "week_day_str = week_day_str.replace('sun','sunday')\n",
    "week_day_str"
   ]
  },
  {
   "cell_type": "code",
   "execution_count": 128,
   "metadata": {},
   "outputs": [
    {
     "data": {
      "text/plain": [
       "'saturday|sunday|mon|tue|wed|thu|fri'"
      ]
     },
     "execution_count": 128,
     "metadata": {},
     "output_type": "execute_result"
    }
   ],
   "source": [
    "week_day_str = week_day_str.replace('sundayday','sunday')\n",
    "week_day_str"
   ]
  },
  {
   "cell_type": "code",
   "execution_count": 129,
   "metadata": {},
   "outputs": [
    {
     "data": {
      "text/plain": [
       "'saturday|sunday|mon|tue|wed|thu|fri'"
      ]
     },
     "execution_count": 129,
     "metadata": {},
     "output_type": "execute_result"
    }
   ],
   "source": [
    "week_day_str = week_day_str.replace('year','sunday')\n",
    "week_day_str"
   ]
  },
  {
   "cell_type": "markdown",
   "metadata": {},
   "source": [
    "# Dictionay"
   ]
  },
  {
   "cell_type": "code",
   "execution_count": 176,
   "metadata": {},
   "outputs": [
    {
     "name": "stdout",
     "output_type": "stream",
     "text": [
      "<class 'dict'>\n"
     ]
    }
   ],
   "source": [
    "# my_first_dict = {}\n",
    "my_first_dict = dict()\n",
    "print(type(my_first_dict))"
   ]
  },
  {
   "cell_type": "code",
   "execution_count": 177,
   "metadata": {},
   "outputs": [],
   "source": [
    "my_first_dict = {0:\"Saturday\", 1:\"Sunday\", 2:\"Monday\", 3:\"Tuesday\", 4:\"Wednesday\", 5:\"Thursday\", 6:[\"Friday\"]}"
   ]
  },
  {
   "cell_type": "code",
   "execution_count": 150,
   "metadata": {},
   "outputs": [
    {
     "name": "stdout",
     "output_type": "stream",
     "text": [
      "Monday\n",
      "{0: 'Saturday', 1: 'Sunday', 2: 'Monday', 3: 'Tuesday', 4: 'Wednesday', 5: 'Thursday', 6: ['Friday']}\n"
     ]
    }
   ],
   "source": [
    "print(my_first_dict[2])\n",
    "print(my_first_dict)"
   ]
  },
  {
   "cell_type": "code",
   "execution_count": 178,
   "metadata": {},
   "outputs": [],
   "source": [
    "my_first_dict[6] = 'Friday'"
   ]
  },
  {
   "cell_type": "code",
   "execution_count": 154,
   "metadata": {},
   "outputs": [
    {
     "data": {
      "text/plain": [
       "{0: 'Saturday',\n",
       " 1: 'Sunday',\n",
       " 2: 'Monday',\n",
       " 3: 'Tuesday',\n",
       " 4: 'Wednesday',\n",
       " 5: 'Thursday',\n",
       " 6: 'Friday'}"
      ]
     },
     "execution_count": 154,
     "metadata": {},
     "output_type": "execute_result"
    }
   ],
   "source": [
    "my_first_dict"
   ]
  },
  {
   "cell_type": "code",
   "execution_count": 159,
   "metadata": {},
   "outputs": [],
   "source": [
    "key = 7\n",
    "if key in my_first_dict:\n",
    "    print(my_first_dict[key])"
   ]
  },
  {
   "cell_type": "code",
   "execution_count": 185,
   "metadata": {},
   "outputs": [
    {
     "name": "stdout",
     "output_type": "stream",
     "text": [
      "Invalid day\n"
     ]
    }
   ],
   "source": [
    "print(my_first_dict.get(7,\"Invalid day\"))"
   ]
  },
  {
   "cell_type": "code",
   "execution_count": 160,
   "metadata": {},
   "outputs": [],
   "source": [
    "my_first_dict[-1]=\"Invalid day\""
   ]
  },
  {
   "cell_type": "code",
   "execution_count": 191,
   "metadata": {},
   "outputs": [],
   "source": [
    "my_first_dict.update({-1 : \"Invalid day\"})"
   ]
  },
  {
   "cell_type": "code",
   "execution_count": 192,
   "metadata": {},
   "outputs": [
    {
     "data": {
      "text/plain": [
       "{0: 'Saturday',\n",
       " 1: 'Sunday',\n",
       " 2: 'Monday',\n",
       " 3: 'Tuesday',\n",
       " 4: 'Wednesday',\n",
       " 5: 'Thursday',\n",
       " 6: 'Friday',\n",
       " -1: 'Invalid day'}"
      ]
     },
     "execution_count": 192,
     "metadata": {},
     "output_type": "execute_result"
    }
   ],
   "source": [
    "my_first_dict"
   ]
  },
  {
   "cell_type": "code",
   "execution_count": 161,
   "metadata": {},
   "outputs": [
    {
     "data": {
      "text/plain": [
       "{0: 'Saturday',\n",
       " 1: 'Sunday',\n",
       " 2: 'Monday',\n",
       " 3: 'Tuesday',\n",
       " 4: 'Wednesday',\n",
       " 5: 'Thursday',\n",
       " 6: 'Friday',\n",
       " -1: 'Invalid day'}"
      ]
     },
     "execution_count": 161,
     "metadata": {},
     "output_type": "execute_result"
    }
   ],
   "source": [
    "my_first_dict"
   ]
  },
  {
   "cell_type": "code",
   "execution_count": 186,
   "metadata": {},
   "outputs": [
    {
     "name": "stdout",
     "output_type": "stream",
     "text": [
      "(0, 1, 2, 3, 4, 5, 6)\n"
     ]
    }
   ],
   "source": [
    "x = my_first_dict.keys()\n",
    "type(x)\n",
    "print(tuple(x))"
   ]
  },
  {
   "cell_type": "code",
   "execution_count": 187,
   "metadata": {},
   "outputs": [
    {
     "name": "stdout",
     "output_type": "stream",
     "text": [
      "((0, 'Saturday'), (1, 'Sunday'), (2, 'Monday'), (3, 'Tuesday'), (4, 'Wednesday'), (5, 'Thursday'), (6, 'Friday'))\n"
     ]
    }
   ],
   "source": [
    "x = my_first_dict.items()\n",
    "type(x)\n",
    "print(tuple(x))"
   ]
  },
  {
   "cell_type": "code",
   "execution_count": 188,
   "metadata": {},
   "outputs": [
    {
     "name": "stdout",
     "output_type": "stream",
     "text": [
      "('Saturday', 'Sunday', 'Monday', 'Tuesday', 'Wednesday', 'Thursday', 'Friday')\n"
     ]
    }
   ],
   "source": [
    "x = my_first_dict.values()\n",
    "type(x)\n",
    "print(tuple(x))"
   ]
  },
  {
   "cell_type": "code",
   "execution_count": 193,
   "metadata": {},
   "outputs": [
    {
     "data": {
      "text/plain": [
       "{}"
      ]
     },
     "execution_count": 193,
     "metadata": {},
     "output_type": "execute_result"
    }
   ],
   "source": [
    "my_first_dict.clear()\n",
    "my_first_dict"
   ]
  },
  {
   "cell_type": "code",
   "execution_count": 194,
   "metadata": {},
   "outputs": [],
   "source": [
    "my_first_dict = {0: 'Saturday',\n",
    " 1: 'Sunday',\n",
    " 2: 'Monday',\n",
    " 3: 'Tuesday',\n",
    " 4: 'Wednesday',\n",
    " 5: 'Thursday',\n",
    " 6: 'Friday',\n",
    " -1: 'Invalid day'}"
   ]
  },
  {
   "cell_type": "code",
   "execution_count": 196,
   "metadata": {},
   "outputs": [
    {
     "data": {
      "text/plain": [
       "{0: 'first three natural numbers',\n",
       " 1: 'first three natural numbers',\n",
       " 2: 'first three natural numbers'}"
      ]
     },
     "execution_count": 196,
     "metadata": {},
     "output_type": "execute_result"
    }
   ],
   "source": [
    "my_first_dict.fromkeys([0,1,2],\"first three natural numbers\")"
   ]
  },
  {
   "cell_type": "code",
   "execution_count": 197,
   "metadata": {},
   "outputs": [
    {
     "data": {
      "text/plain": [
       "'Saturday'"
      ]
     },
     "execution_count": 197,
     "metadata": {},
     "output_type": "execute_result"
    }
   ],
   "source": [
    "my_first_dict.pop(0)"
   ]
  },
  {
   "cell_type": "code",
   "execution_count": 198,
   "metadata": {},
   "outputs": [
    {
     "data": {
      "text/plain": [
       "{1: 'Sunday',\n",
       " 2: 'Monday',\n",
       " 3: 'Tuesday',\n",
       " 4: 'Wednesday',\n",
       " 5: 'Thursday',\n",
       " 6: 'Friday',\n",
       " -1: 'Invalid day'}"
      ]
     },
     "execution_count": 198,
     "metadata": {},
     "output_type": "execute_result"
    }
   ],
   "source": [
    "my_first_dict"
   ]
  },
  {
   "cell_type": "code",
   "execution_count": 204,
   "metadata": {},
   "outputs": [
    {
     "name": "stdout",
     "output_type": "stream",
     "text": [
      "key does not exist\n"
     ]
    }
   ],
   "source": [
    "key = 0\n",
    "if key in my_first_dict:\n",
    "    print(my_first_dict.pop(key))\n",
    "else:\n",
    "    print(\"key does not exist\")"
   ]
  },
  {
   "cell_type": "code",
   "execution_count": 201,
   "metadata": {},
   "outputs": [
    {
     "data": {
      "text/plain": [
       "(-1, 'Invalid day')"
      ]
     },
     "execution_count": 201,
     "metadata": {},
     "output_type": "execute_result"
    }
   ],
   "source": [
    "my_first_dict.popitem()"
   ]
  },
  {
   "cell_type": "code",
   "execution_count": 207,
   "metadata": {},
   "outputs": [],
   "source": [
    "my_first_dict1 = my_first_dict.copy()"
   ]
  },
  {
   "cell_type": "code",
   "execution_count": 208,
   "metadata": {},
   "outputs": [
    {
     "data": {
      "text/plain": [
       "{1: 'Sunday',\n",
       " 2: 'Monday',\n",
       " 3: 'Tuesday',\n",
       " 4: 'Wednesday',\n",
       " 5: 'Thursday',\n",
       " 6: 'Friday'}"
      ]
     },
     "execution_count": 208,
     "metadata": {},
     "output_type": "execute_result"
    }
   ],
   "source": [
    "my_first_dict1"
   ]
  },
  {
   "cell_type": "code",
   "execution_count": 209,
   "metadata": {},
   "outputs": [],
   "source": [
    "my_first_dict2 = my_first_dict"
   ]
  },
  {
   "cell_type": "code",
   "execution_count": 210,
   "metadata": {},
   "outputs": [
    {
     "data": {
      "text/plain": [
       "{1: 'Sunday',\n",
       " 2: 'Monday',\n",
       " 3: 'Tuesday',\n",
       " 4: 'Wednesday',\n",
       " 5: 'Thursday',\n",
       " 6: 'Friday'}"
      ]
     },
     "execution_count": 210,
     "metadata": {},
     "output_type": "execute_result"
    }
   ],
   "source": [
    "my_first_dict2"
   ]
  },
  {
   "cell_type": "code",
   "execution_count": 211,
   "metadata": {},
   "outputs": [],
   "source": [
    "my_first_dict[0] = \"Saturday\""
   ]
  },
  {
   "cell_type": "code",
   "execution_count": 220,
   "metadata": {},
   "outputs": [
    {
     "data": {
      "text/plain": [
       "{1: 'Sunday',\n",
       " 2: 'Monday',\n",
       " 3: 'Tuesday',\n",
       " 4: 'Wednesday',\n",
       " 5: 'Thursday',\n",
       " 6: 'Friday',\n",
       " 0: 'Saturday',\n",
       " -1: 'Invalid day'}"
      ]
     },
     "execution_count": 220,
     "metadata": {},
     "output_type": "execute_result"
    }
   ],
   "source": [
    "my_first_dict"
   ]
  },
  {
   "cell_type": "code",
   "execution_count": 212,
   "metadata": {},
   "outputs": [
    {
     "data": {
      "text/plain": [
       "{1: 'Sunday',\n",
       " 2: 'Monday',\n",
       " 3: 'Tuesday',\n",
       " 4: 'Wednesday',\n",
       " 5: 'Thursday',\n",
       " 6: 'Friday'}"
      ]
     },
     "execution_count": 212,
     "metadata": {},
     "output_type": "execute_result"
    }
   ],
   "source": [
    "my_first_dict1"
   ]
  },
  {
   "cell_type": "code",
   "execution_count": 213,
   "metadata": {},
   "outputs": [
    {
     "data": {
      "text/plain": [
       "{1: 'Sunday',\n",
       " 2: 'Monday',\n",
       " 3: 'Tuesday',\n",
       " 4: 'Wednesday',\n",
       " 5: 'Thursday',\n",
       " 6: 'Friday',\n",
       " 0: 'Saturday'}"
      ]
     },
     "execution_count": 213,
     "metadata": {},
     "output_type": "execute_result"
    }
   ],
   "source": [
    "my_first_dict2"
   ]
  },
  {
   "cell_type": "code",
   "execution_count": 219,
   "metadata": {},
   "outputs": [
    {
     "data": {
      "text/plain": [
       "'Invalid day'"
      ]
     },
     "execution_count": 219,
     "metadata": {},
     "output_type": "execute_result"
    }
   ],
   "source": [
    "my_first_dict.setdefault(-1,\"Invalid day\")"
   ]
  },
  {
   "cell_type": "markdown",
   "metadata": {},
   "source": [
    "# Boolean"
   ]
  },
  {
   "cell_type": "markdown",
   "metadata": {},
   "source": [
    "Boolean word comes from George Bool. He is the person responsible for coming up with Boolean algebra. \n",
    "In logic, we only have either true statements or false statements. \n",
    "\n",
    "true = 1\n",
    "false = 0\n",
    "## AND\n",
    "statement1: earth revolves around sun (true)\n",
    "statement2: earth is flat (false)\n",
    "\n",
    "statement3: statement1 *AND* statement2\n",
    "    -> earth revolves around sun and earth is flat (false)\n",
    "\n",
    "statement1: earth revolves around sun (true)\n",
    "statement2: earth is round (true)\n",
    "\n",
    "statement3: statement1 *AND* statement2\n",
    "    -> earth revolves around sun and earth is round (true)\n",
    "\n",
    "statement1: sun revolves around earth (false)\n",
    "statement2: earth is flat (false)\n",
    "\n",
    "statement3: statement1 *AND* statement2\n",
    "    -> sun revolves around earth and earth is flat (false)\n",
    "\n",
    "## OR\n",
    "statement1: earth revolves around sun (true)\n",
    "statement2: earth is flat (false)\n",
    "\n",
    "statement3: statement1 *OR* statement2\n",
    "    -> either earth revolves around sun or earth is flat (true)\n",
    "\n",
    "statement1: earth revolves around sun (true)\n",
    "statement2: earth is round (true)\n",
    "\n",
    "statement3: statement1 *OR* statement2\n",
    "    -> either earth revolves around sun or earth is round (true)\n",
    "\n",
    "statement1: sun revolves around earth (false)\n",
    "statement2: earth is flat (false)\n",
    "\n",
    "statement3: statement1 *OR* statement2\n",
    "    -> either sun revolves around earth or earth is flat (false)\n",
    "\n",
    "## NEGATE\n",
    "statement1: earth is round (true)\n",
    "\n",
    "statement3: *NEGATE* statement1\n",
    "    -> earth is flat (false)\n",
    "\n",
    "statement1: earth is flat (false)\n",
    "\n",
    "statement3: *NEGATE* statement1\n",
    "    -> earth is round (true)"
   ]
  },
  {
   "cell_type": "code",
   "execution_count": 222,
   "metadata": {},
   "outputs": [
    {
     "data": {
      "text/plain": [
       "bool"
      ]
     },
     "execution_count": 222,
     "metadata": {},
     "output_type": "execute_result"
    }
   ],
   "source": [
    "type(True)"
   ]
  },
  {
   "cell_type": "code",
   "execution_count": 223,
   "metadata": {},
   "outputs": [
    {
     "data": {
      "text/plain": [
       "bool"
      ]
     },
     "execution_count": 223,
     "metadata": {},
     "output_type": "execute_result"
    }
   ],
   "source": [
    "type(False)"
   ]
  },
  {
   "cell_type": "code",
   "execution_count": 224,
   "metadata": {},
   "outputs": [
    {
     "data": {
      "text/plain": [
       "bool"
      ]
     },
     "execution_count": 224,
     "metadata": {},
     "output_type": "execute_result"
    }
   ],
   "source": [
    "x = False\n",
    "type(x)"
   ]
  },
  {
   "cell_type": "code",
   "execution_count": 229,
   "metadata": {},
   "outputs": [
    {
     "data": {
      "text/plain": [
       "False"
      ]
     },
     "execution_count": 229,
     "metadata": {},
     "output_type": "execute_result"
    }
   ],
   "source": [
    "x = \"\"\n",
    "bool(x)"
   ]
  },
  {
   "cell_type": "code",
   "execution_count": 231,
   "metadata": {},
   "outputs": [
    {
     "name": "stdout",
     "output_type": "stream",
     "text": [
      "it is an empty string\n"
     ]
    }
   ],
   "source": [
    "if x:\n",
    "    print(\"it is not an empty string\")\n",
    "if not x:\n",
    "    print(\"it is an empty string\")"
   ]
  },
  {
   "cell_type": "code",
   "execution_count": 233,
   "metadata": {},
   "outputs": [
    {
     "data": {
      "text/plain": [
       "False"
      ]
     },
     "execution_count": 233,
     "metadata": {},
     "output_type": "execute_result"
    }
   ],
   "source": [
    "x = 0\n",
    "bool(x)"
   ]
  },
  {
   "cell_type": "code",
   "execution_count": 245,
   "metadata": {},
   "outputs": [
    {
     "data": {
      "text/plain": [
       "True"
      ]
     },
     "execution_count": 245,
     "metadata": {},
     "output_type": "execute_result"
    }
   ],
   "source": [
    "x = -838392.009\n",
    "bool(x)"
   ]
  },
  {
   "cell_type": "code",
   "execution_count": 247,
   "metadata": {},
   "outputs": [
    {
     "data": {
      "text/plain": [
       "True"
      ]
     },
     "execution_count": 247,
     "metadata": {},
     "output_type": "execute_result"
    }
   ],
   "source": [
    "x = ['this','is','a list']\n",
    "bool(x)"
   ]
  },
  {
   "cell_type": "code",
   "execution_count": 248,
   "metadata": {},
   "outputs": [
    {
     "name": "stdout",
     "output_type": "stream",
     "text": [
      "not and empty list\n"
     ]
    }
   ],
   "source": [
    "# implicit type conversion\n",
    "if x:\n",
    "    print(\"not and empty list\")"
   ]
  },
  {
   "cell_type": "code",
   "execution_count": 249,
   "metadata": {},
   "outputs": [
    {
     "name": "stdout",
     "output_type": "stream",
     "text": [
      "not and empty list\n"
     ]
    }
   ],
   "source": [
    "# explicit type conversion\n",
    "if bool(x):\n",
    "    print(\"not and empty list\")"
   ]
  },
  {
   "cell_type": "code",
   "execution_count": 250,
   "metadata": {},
   "outputs": [
    {
     "data": {
      "text/plain": [
       "False"
      ]
     },
     "execution_count": 250,
     "metadata": {},
     "output_type": "execute_result"
    }
   ],
   "source": [
    "x = []\n",
    "bool(x)"
   ]
  },
  {
   "cell_type": "code",
   "execution_count": 251,
   "metadata": {},
   "outputs": [
    {
     "data": {
      "text/plain": [
       "False"
      ]
     },
     "execution_count": 251,
     "metadata": {},
     "output_type": "execute_result"
    }
   ],
   "source": [
    "x = ()\n",
    "bool(x)"
   ]
  },
  {
   "cell_type": "markdown",
   "metadata": {},
   "source": [
    "# SET"
   ]
  },
  {
   "cell_type": "code",
   "execution_count": 13,
   "metadata": {},
   "outputs": [
    {
     "data": {
      "text/plain": [
       "set()"
      ]
     },
     "execution_count": 13,
     "metadata": {},
     "output_type": "execute_result"
    }
   ],
   "source": [
    "my_first_set = set()\n",
    "my_first_set"
   ]
  },
  {
   "cell_type": "code",
   "execution_count": 16,
   "metadata": {},
   "outputs": [
    {
     "data": {
      "text/plain": [
       "{13, 1729}"
      ]
     },
     "execution_count": 16,
     "metadata": {},
     "output_type": "execute_result"
    }
   ],
   "source": [
    "my_first_set.add(1729)\n",
    "my_first_set.add(13)\n",
    "my_first_set"
   ]
  },
  {
   "cell_type": "code",
   "execution_count": 260,
   "metadata": {},
   "outputs": [
    {
     "data": {
      "text/plain": [
       "set"
      ]
     },
     "execution_count": 260,
     "metadata": {},
     "output_type": "execute_result"
    }
   ],
   "source": [
    "type(my_first_set)"
   ]
  },
  {
   "cell_type": "code",
   "execution_count": 263,
   "metadata": {},
   "outputs": [],
   "source": [
    "my_first_set = {1,2,3,4,\"five\", 1, 2}"
   ]
  },
  {
   "cell_type": "code",
   "execution_count": null,
   "metadata": {},
   "outputs": [
    {
     "ename": "TypeError",
     "evalue": "unhashable type: 'dict'",
     "output_type": "error",
     "traceback": [
      "\u001b[1;31m---------------------------------------------------------------------------\u001b[0m",
      "\u001b[1;31mTypeError\u001b[0m                                 Traceback (most recent call last)",
      "Cell \u001b[1;32mIn[269], line 1\u001b[0m\n\u001b[1;32m----> 1\u001b[0m my_second_set \u001b[38;5;241m=\u001b[39m {\u001b[38;5;241m1\u001b[39m,\u001b[38;5;241m2\u001b[39m,{\u001b[38;5;241m1\u001b[39m:\u001b[38;5;124m\"\u001b[39m\u001b[38;5;124mone\u001b[39m\u001b[38;5;124m\"\u001b[39m}}\n",
      "\u001b[1;31mTypeError\u001b[0m: unhashable type: 'dict'"
     ]
    }
   ],
   "source": [
    "my_second_set = {1,2}"
   ]
  },
  {
   "cell_type": "markdown",
   "metadata": {},
   "source": [
    "hashable --> immutable --> cannot be modified after creation <br>\n",
    "unhashable --> mutable --> can be modified after creation"
   ]
  },
  {
   "cell_type": "markdown",
   "metadata": {},
   "source": [
    "Hash(object1) --> hash value1 [unique for each object]<br>\n",
    "Hash(object2) --> hash value2<br>\n",
    "<code>\n",
    "if object1 != object2:<br>\n",
    "    hash value1 != hash value2<br>\n",
    "if object1 == object2:<br>\n",
    "    hash value1 = hash value2<br>\n",
    "</code><br>\n",
    "<br>\n",
    "Objects can be of varying sizes<br>\n",
    "because of this, larger objects will take some time to compare<br>\n",
    "<br>\n",
    "Properties of Hash value:<br>\n",
    "<ul>\n",
    "    <li> Hash values are unique. hash of one object will be always different than hash value of another object</li>\n",
    "    <li> Hash value will be of fixed length. eg. 12 hexadecimal characters long (MD5 algorithm)</li>\n",
    "    <li> The hash calculation is non-invertible. you can't get object value from the hash value</li>\n",
    "</ul>"
   ]
  },
  {
   "cell_type": "code",
   "execution_count": 264,
   "metadata": {},
   "outputs": [
    {
     "data": {
      "text/plain": [
       "set"
      ]
     },
     "execution_count": 264,
     "metadata": {},
     "output_type": "execute_result"
    }
   ],
   "source": [
    "type(my_first_set)"
   ]
  },
  {
   "cell_type": "code",
   "execution_count": 265,
   "metadata": {},
   "outputs": [
    {
     "data": {
      "text/plain": [
       "{1, 2, 3, 4, 'five'}"
      ]
     },
     "execution_count": 265,
     "metadata": {},
     "output_type": "execute_result"
    }
   ],
   "source": [
    "my_first_set"
   ]
  },
  {
   "cell_type": "code",
   "execution_count": 266,
   "metadata": {},
   "outputs": [],
   "source": [
    "my_first_set.add(\"six\")"
   ]
  },
  {
   "cell_type": "code",
   "execution_count": 277,
   "metadata": {},
   "outputs": [
    {
     "data": {
      "text/plain": [
       "{1, 2, 3, 4, 5, 'five', 'six'}"
      ]
     },
     "execution_count": 277,
     "metadata": {},
     "output_type": "execute_result"
    }
   ],
   "source": [
    "my_first_set"
   ]
  },
  {
   "cell_type": "code",
   "execution_count": 274,
   "metadata": {},
   "outputs": [
    {
     "data": {
      "text/plain": [
       "2508730087936"
      ]
     },
     "execution_count": 274,
     "metadata": {},
     "output_type": "execute_result"
    }
   ],
   "source": [
    "id(my_first_set)"
   ]
  },
  {
   "cell_type": "code",
   "execution_count": 275,
   "metadata": {},
   "outputs": [],
   "source": [
    "my_first_set.add(5)"
   ]
  },
  {
   "cell_type": "code",
   "execution_count": 276,
   "metadata": {},
   "outputs": [
    {
     "data": {
      "text/plain": [
       "2508730087936"
      ]
     },
     "execution_count": 276,
     "metadata": {},
     "output_type": "execute_result"
    }
   ],
   "source": [
    "id(my_first_set)"
   ]
  },
  {
   "cell_type": "code",
   "execution_count": 278,
   "metadata": {},
   "outputs": [],
   "source": [
    "my_second_set = {1, 2, 3, 4, 5, 'five', 'six'}"
   ]
  },
  {
   "cell_type": "code",
   "execution_count": 279,
   "metadata": {},
   "outputs": [
    {
     "data": {
      "text/plain": [
       "2508738856992"
      ]
     },
     "execution_count": 279,
     "metadata": {},
     "output_type": "execute_result"
    }
   ],
   "source": [
    "id(my_second_set)"
   ]
  },
  {
   "cell_type": "code",
   "execution_count": 285,
   "metadata": {},
   "outputs": [],
   "source": [
    "tuple1 = (1,2,3,4)"
   ]
  },
  {
   "cell_type": "code",
   "execution_count": 284,
   "metadata": {},
   "outputs": [],
   "source": [
    "tuple2 = (1,2,3,4)"
   ]
  },
  {
   "cell_type": "code",
   "execution_count": 288,
   "metadata": {},
   "outputs": [
    {
     "data": {
      "text/plain": [
       "True"
      ]
     },
     "execution_count": 288,
     "metadata": {},
     "output_type": "execute_result"
    }
   ],
   "source": [
    "tuple1 == tuple2"
   ]
  },
  {
   "cell_type": "code",
   "execution_count": 293,
   "metadata": {},
   "outputs": [
    {
     "data": {
      "text/plain": [
       "18"
      ]
     },
     "execution_count": 293,
     "metadata": {},
     "output_type": "execute_result"
    }
   ],
   "source": [
    "len(str(hash(tuple1)))"
   ]
  },
  {
   "cell_type": "code",
   "execution_count": 292,
   "metadata": {},
   "outputs": [
    {
     "data": {
      "text/plain": [
       "18"
      ]
     },
     "execution_count": 292,
     "metadata": {},
     "output_type": "execute_result"
    }
   ],
   "source": [
    "len(str(hash(tuple2)))"
   ]
  },
  {
   "cell_type": "code",
   "execution_count": 291,
   "metadata": {},
   "outputs": [
    {
     "data": {
      "text/plain": [
       "20"
      ]
     },
     "execution_count": 291,
     "metadata": {},
     "output_type": "execute_result"
    }
   ],
   "source": [
    "tuple3 = (9,34,5)\n",
    "len(str(hash(tuple3)))"
   ]
  },
  {
   "cell_type": "code",
   "execution_count": 294,
   "metadata": {},
   "outputs": [
    {
     "name": "stdout",
     "output_type": "stream",
     "text": [
      "2508739148864\n",
      "2508739149104\n"
     ]
    }
   ],
   "source": [
    "print(id(tuple1))\n",
    "print(id(tuple2))"
   ]
  },
  {
   "cell_type": "code",
   "execution_count": 295,
   "metadata": {},
   "outputs": [
    {
     "data": {
      "text/plain": [
       "{1, 2, 3, 4, 5, 'five', 'six'}"
      ]
     },
     "execution_count": 295,
     "metadata": {},
     "output_type": "execute_result"
    }
   ],
   "source": [
    "my_second_set"
   ]
  },
  {
   "cell_type": "code",
   "execution_count": 308,
   "metadata": {},
   "outputs": [],
   "source": [
    "my_first_set = {1, 2, 3, 4, 5}"
   ]
  },
  {
   "cell_type": "code",
   "execution_count": 298,
   "metadata": {},
   "outputs": [
    {
     "data": {
      "text/plain": [
       "set()"
      ]
     },
     "execution_count": 298,
     "metadata": {},
     "output_type": "execute_result"
    }
   ],
   "source": [
    "my_first_set.difference(my_second_set)"
   ]
  },
  {
   "cell_type": "code",
   "execution_count": 299,
   "metadata": {},
   "outputs": [
    {
     "data": {
      "text/plain": [
       "{'five', 'six'}"
      ]
     },
     "execution_count": 299,
     "metadata": {},
     "output_type": "execute_result"
    }
   ],
   "source": [
    "my_second_set.difference(my_first_set)"
   ]
  },
  {
   "cell_type": "code",
   "execution_count": 306,
   "metadata": {},
   "outputs": [],
   "source": [
    "my_first_set.difference_update({1, 2})"
   ]
  },
  {
   "cell_type": "code",
   "execution_count": 309,
   "metadata": {},
   "outputs": [],
   "source": [
    "my_first_set.discard(5)"
   ]
  },
  {
   "cell_type": "code",
   "execution_count": 310,
   "metadata": {},
   "outputs": [
    {
     "data": {
      "text/plain": [
       "{1, 2, 3, 4}"
      ]
     },
     "execution_count": 310,
     "metadata": {},
     "output_type": "execute_result"
    }
   ],
   "source": [
    "my_first_set"
   ]
  },
  {
   "cell_type": "code",
   "execution_count": 311,
   "metadata": {},
   "outputs": [],
   "source": [
    "my_first_set.discard(5)"
   ]
  },
  {
   "cell_type": "code",
   "execution_count": 312,
   "metadata": {},
   "outputs": [
    {
     "data": {
      "text/plain": [
       "{1, 2, 3, 4}"
      ]
     },
     "execution_count": 312,
     "metadata": {},
     "output_type": "execute_result"
    }
   ],
   "source": [
    "my_first_set"
   ]
  },
  {
   "cell_type": "code",
   "execution_count": 314,
   "metadata": {},
   "outputs": [],
   "source": [
    "my_first_set.remove(4)"
   ]
  },
  {
   "cell_type": "code",
   "execution_count": 315,
   "metadata": {},
   "outputs": [
    {
     "data": {
      "text/plain": [
       "{1, 2, 3}"
      ]
     },
     "execution_count": 315,
     "metadata": {},
     "output_type": "execute_result"
    }
   ],
   "source": [
    "my_first_set"
   ]
  },
  {
   "cell_type": "code",
   "execution_count": 316,
   "metadata": {},
   "outputs": [],
   "source": [
    "my_first_set = {1, 2, 3, 4, 5}"
   ]
  },
  {
   "cell_type": "code",
   "execution_count": 317,
   "metadata": {},
   "outputs": [
    {
     "data": {
      "text/plain": [
       "{1, 2, 3, 4, 5}"
      ]
     },
     "execution_count": 317,
     "metadata": {},
     "output_type": "execute_result"
    }
   ],
   "source": [
    "my_first_set.intersection(my_second_set)"
   ]
  },
  {
   "cell_type": "code",
   "execution_count": 318,
   "metadata": {},
   "outputs": [],
   "source": [
    "my_first_set.intersection_update(my_second_set)"
   ]
  },
  {
   "cell_type": "code",
   "execution_count": 320,
   "metadata": {},
   "outputs": [
    {
     "data": {
      "text/plain": [
       "False"
      ]
     },
     "execution_count": 320,
     "metadata": {},
     "output_type": "execute_result"
    }
   ],
   "source": [
    "my_first_set.isdisjoint(my_second_set)"
   ]
  },
  {
   "cell_type": "code",
   "execution_count": 321,
   "metadata": {},
   "outputs": [
    {
     "data": {
      "text/plain": [
       "True"
      ]
     },
     "execution_count": 321,
     "metadata": {},
     "output_type": "execute_result"
    }
   ],
   "source": [
    "my_first_set.issubset(my_second_set)"
   ]
  },
  {
   "cell_type": "code",
   "execution_count": 323,
   "metadata": {},
   "outputs": [
    {
     "data": {
      "text/plain": [
       "True"
      ]
     },
     "execution_count": 323,
     "metadata": {},
     "output_type": "execute_result"
    }
   ],
   "source": [
    "my_second_set.issuperset(my_first_set)"
   ]
  },
  {
   "cell_type": "code",
   "execution_count": null,
   "metadata": {},
   "outputs": [],
   "source": [
    "# removes some arbitary element from set\n",
    "my_first_set.pop()"
   ]
  },
  {
   "cell_type": "code",
   "execution_count": 327,
   "metadata": {},
   "outputs": [
    {
     "data": {
      "text/plain": [
       "{6, 7, 'five', 'six'}"
      ]
     },
     "execution_count": 327,
     "metadata": {},
     "output_type": "execute_result"
    }
   ],
   "source": [
    "my_first_set.symmetric_difference(my_second_set)"
   ]
  },
  {
   "cell_type": "code",
   "execution_count": 325,
   "metadata": {},
   "outputs": [],
   "source": [
    "my_first_set.update({6,7})"
   ]
  },
  {
   "cell_type": "code",
   "execution_count": 328,
   "metadata": {},
   "outputs": [
    {
     "data": {
      "text/plain": [
       "{1, 2, 3, 4, 5, 6, 7, 'five', 'six'}"
      ]
     },
     "execution_count": 328,
     "metadata": {},
     "output_type": "execute_result"
    }
   ],
   "source": [
    "my_first_set.union(my_second_set)"
   ]
  },
  {
   "cell_type": "code",
   "execution_count": 333,
   "metadata": {},
   "outputs": [],
   "source": [
    "fr_my_first_set = frozenset({1,2,3,4,5})\n",
    "fr_my_second_set = frozenset({1,2,3,\"four\",\"five\"})"
   ]
  },
  {
   "cell_type": "code",
   "execution_count": 335,
   "metadata": {},
   "outputs": [
    {
     "data": {
      "text/plain": [
       "frozenset({1, 2, 3, 4, 5, 'five', 'six'})"
      ]
     },
     "execution_count": 335,
     "metadata": {},
     "output_type": "execute_result"
    }
   ],
   "source": [
    "fr_my_first_set.union(my_second_set)"
   ]
  },
  {
   "cell_type": "markdown",
   "metadata": {},
   "source": [
    "# Nonetype\n",
    "\n",
    "In python None is reference to something void or empty. It is defined by <code>None</code>"
   ]
  },
  {
   "cell_type": "code",
   "execution_count": 337,
   "metadata": {},
   "outputs": [],
   "source": [
    "if fr_my_first_set is None:\n",
    "    print(\"it is none type\")"
   ]
  },
  {
   "cell_type": "code",
   "execution_count": 338,
   "metadata": {},
   "outputs": [],
   "source": [
    "def is_mobile_number(input_field):\n",
    "    if not input_field or not isinstance(input_field, str):\n",
    "        return None\n",
    "    input_field = input_field.strip()\n",
    "    if input_field[3:].isdecimal() and len(input_field[3:]) == 10 and input_field.startswith('+91'):\n",
    "        return \"valid number\"\n",
    "    else:\n",
    "        return \"invalid number\""
   ]
  },
  {
   "cell_type": "code",
   "execution_count": 339,
   "metadata": {},
   "outputs": [
    {
     "data": {
      "text/plain": [
       "'invalid number'"
      ]
     },
     "execution_count": 339,
     "metadata": {},
     "output_type": "execute_result"
    }
   ],
   "source": [
    "is_mobile_number(\"+91739427492\")"
   ]
  },
  {
   "cell_type": "code",
   "execution_count": 340,
   "metadata": {},
   "outputs": [
    {
     "data": {
      "text/plain": [
       "'valid number'"
      ]
     },
     "execution_count": 340,
     "metadata": {},
     "output_type": "execute_result"
    }
   ],
   "source": [
    "is_mobile_number(\"+917394274923\")"
   ]
  },
  {
   "cell_type": "code",
   "execution_count": 346,
   "metadata": {},
   "outputs": [
    {
     "name": "stdout",
     "output_type": "stream",
     "text": [
      "invalid input provided\n"
     ]
    }
   ],
   "source": [
    "# inp = input()\n",
    "answer = is_mobile_number(1234)\n",
    "if answer is None:\n",
    "    print(\"invalid input provided\")\n",
    "else:\n",
    "    print(answer)"
   ]
  },
  {
   "cell_type": "code",
   "execution_count": 347,
   "metadata": {},
   "outputs": [
    {
     "name": "stdout",
     "output_type": "stream",
     "text": [
      "this is first print\n",
      "None\n"
     ]
    }
   ],
   "source": [
    "print(print(\"this is first print\"))"
   ]
  },
  {
   "cell_type": "code",
   "execution_count": 349,
   "metadata": {},
   "outputs": [],
   "source": [
    "_var1 = 1\n",
    "firstname_ = 1\n",
    "middle_name = 1\n",
    "last_name = 1"
   ]
  },
  {
   "cell_type": "code",
   "execution_count": 351,
   "metadata": {},
   "outputs": [],
   "source": [
    "point0 = 1\n",
    "p0oint = 2"
   ]
  },
  {
   "cell_type": "code",
   "execution_count": 353,
   "metadata": {},
   "outputs": [],
   "source": [
    "xp = 2"
   ]
  },
  {
   "cell_type": "code",
   "execution_count": 362,
   "metadata": {},
   "outputs": [],
   "source": [
    "b_literal = b'AF'"
   ]
  },
  {
   "cell_type": "code",
   "execution_count": 364,
   "metadata": {},
   "outputs": [
    {
     "data": {
      "text/plain": [
       "175"
      ]
     },
     "execution_count": 364,
     "metadata": {},
     "output_type": "execute_result"
    }
   ],
   "source": [
    "int(b_literal,base=16)"
   ]
  },
  {
   "cell_type": "code",
   "execution_count": 373,
   "metadata": {},
   "outputs": [],
   "source": [
    "example_string = \"this is an example string having a (\\\\) backslash\\\n",
    "    and having (\\') single quote symbol\\\n",
    "    and having (\\\") double quote symbol\""
   ]
  },
  {
   "cell_type": "code",
   "execution_count": 374,
   "metadata": {},
   "outputs": [
    {
     "name": "stdout",
     "output_type": "stream",
     "text": [
      "this is an example string having a (\\) backslash    and having (') single quote symbol    and having (\") double quote symbol\n"
     ]
    }
   ],
   "source": [
    "print(example_string)"
   ]
  },
  {
   "cell_type": "code",
   "execution_count": 376,
   "metadata": {},
   "outputs": [
    {
     "name": "stdout",
     "output_type": "stream",
     "text": [
      "This is a (\u0007) bell symbol\n"
     ]
    }
   ],
   "source": [
    "example_string1 = \"This is a (\\a) bell symbol\"\n",
    "print(example_string1)"
   ]
  },
  {
   "cell_type": "code",
   "execution_count": 377,
   "metadata": {},
   "outputs": [],
   "source": [
    "example_string2 = \"This is a (\\b) backspace symbol\""
   ]
  },
  {
   "cell_type": "code",
   "execution_count": 380,
   "metadata": {},
   "outputs": [
    {
     "name": "stdout",
     "output_type": "stream",
     "text": [
      "This is a (\n",
      ") new line symbol\n"
     ]
    }
   ],
   "source": [
    "example_string3 = \"This is a (\\n) new line symbol\"\n",
    "print(example_string3)"
   ]
  },
  {
   "cell_type": "code",
   "execution_count": 381,
   "metadata": {},
   "outputs": [
    {
     "name": "stdout",
     "output_type": "stream",
     "text": [
      ") carriage return symbol\n"
     ]
    }
   ],
   "source": [
    "example_string4 = \"This is a (\\r) carriage return symbol\"\n",
    "print(example_string4)"
   ]
  },
  {
   "cell_type": "code",
   "execution_count": 383,
   "metadata": {},
   "outputs": [
    {
     "data": {
      "text/plain": [
       "0"
      ]
     },
     "execution_count": 383,
     "metadata": {},
     "output_type": "execute_result"
    }
   ],
   "source": [
    "example_string4.find(\"This\")"
   ]
  },
  {
   "cell_type": "code",
   "execution_count": 385,
   "metadata": {},
   "outputs": [
    {
     "name": "stdout",
     "output_type": "stream",
     "text": [
      "The value is:\t12345\n",
      "\u000bThe next value is:\t67890\n"
     ]
    }
   ],
   "source": [
    "example_string5 = \"The value is:\\t12345\\n\\vThe next value is:\\t67890\"\n",
    "print(example_string5)"
   ]
  },
  {
   "cell_type": "code",
   "execution_count": 398,
   "metadata": {},
   "outputs": [
    {
     "name": "stdout",
     "output_type": "stream",
     "text": [
      "λ = 3.0\n"
     ]
    }
   ],
   "source": [
    "hex_num = \"\\u03BB = 3.0\"\n",
    "print(hex_num)"
   ]
  },
  {
   "cell_type": "code",
   "execution_count": 7,
   "metadata": {},
   "outputs": [
    {
     "data": {
      "text/plain": [
       "'!'"
      ]
     },
     "execution_count": 7,
     "metadata": {},
     "output_type": "execute_result"
    }
   ],
   "source": [
    "x = chr(33)\n",
    "x"
   ]
  },
  {
   "cell_type": "code",
   "execution_count": 11,
   "metadata": {},
   "outputs": [
    {
     "data": {
      "text/plain": [
       "65"
      ]
     },
     "execution_count": 11,
     "metadata": {},
     "output_type": "execute_result"
    }
   ],
   "source": [
    "X = ord('A')\n",
    "bin_value = bin(X)\n",
    "int_value = int(bin_value, base=2)\n",
    "int_value"
   ]
  },
  {
   "cell_type": "markdown",
   "metadata": {},
   "source": [
    "# Python Data Types Quiz\n",
    "\n",
    "1. **Which of the following is NOT a built-in numeric type in Python?**  \n",
    "    a. `int`  \n",
    "    b. `float`  \n",
    "    c. `complex`  \n",
    "    d. `char`  \n",
    "    Answer: d\n",
    "\n",
    "2. **What does the `append()` method do to a list?**  \n",
    "    a. Adds an element to the end of the list  \n",
    "    b. Adds an element to the beginning of the list  \n",
    "    c. Removes an element from the list  \n",
    "    d. Sorts the list  \n",
    "    Answer: a\n",
    "\n",
    "3. **Which of these list methods modifies the original list in-place?**  \n",
    "    a. `copy()`  \n",
    "    b. `index()`  \n",
    "    c. `sort()`  \n",
    "    d. `count()`  \n",
    "    Answer: c\n",
    "\n",
    "4. **Tuples are...**  \n",
    "    a. Mutable  \n",
    "    b. Immutable  \n",
    "    c. Ordered  \n",
    "    d. Both Immutable and Ordered  \n",
    "    Answer: d\n",
    "\n",
    "\n",
    "5. **Which of the following is NOT a valid tuple method?**  \n",
    "    a. `count()`  \n",
    "    b. `index()`  \n",
    "    c. `append()`  \n",
    "    d. `__len__()`  \n",
    "    Answer: c\n",
    "\n",
    "6. **What does the `strip()` method do to a string?**  \n",
    "    a. Removes leading and trailing whitespace  \n",
    "    b. Converts the string to uppercase  \n",
    "    c. Converts the string to lowercase  \n",
    "    d. Replaces a substring  \n",
    "    Answer: a\n",
    "\n",
    "7. **Which string method is used to find the index of a substring?**  \n",
    "    a. `find()`  \n",
    "    b. `index()`  \n",
    "    c. `count()`  \n",
    "    d. `replace()`  \n",
    "    Answer: a and b\n",
    "\n",
    "8. **What does the `get()` method do in a dictionary?**  \n",
    "    a. Returns the value associated with a key, or a default value if the key is not found  \n",
    "    b. Adds a new key-value pair  \n",
    "    c. Removes a key-value pair  \n",
    "    d. Returns all keys in the dictionary  \n",
    "    Answer: a\n",
    "\n",
    "9. **Which dictionary method returns a view object that displays a list of a dictionary's keys?**  \n",
    "    a. `keys()`  \n",
    "    b. `values()`  \n",
    "    c. `items()`  \n",
    "    d. `get()`  \n",
    "    Answer: a\n",
    "\n",
    "10. **Dictionaries in Python are...**  \n",
    "    a. Ordered (from Python 3.7+)  \n",
    "    b. Unordered  \n",
    "    c. Indexed by integers  \n",
    "    d. Immutable  \n",
    "    Answer: a\n",
    "\n",
    "11. **Sets in Python are...**  \n",
    "    a. Ordered  \n",
    "    b. Unordered  \n",
    "    c. Mutable  \n",
    "    d. Both Unordered and Mutable  \n",
    "    Answer: d\n",
    "\n",
    "12. **Which set method adds an element to the set?**  \n",
    "    a. `add()`  \n",
    "    b. `update()`  \n",
    "    c. `union()`  \n",
    "    d. `intersection()`  \n",
    "    Answer: a\n",
    "\n",
    "13. **What does the `difference()` method do to sets?**  \n",
    "    a. Returns the elements that are in the first set but not the second  \n",
    "    b. Returns the common elements between two sets  \n",
    "    c. Returns all elements from both sets  \n",
    "    d. Removes an element from a set  \n",
    "    Answer: a\n",
    "\n",
    "14. **Which method removes an arbitrary element from a set?**  \n",
    "    a. `remove()`  \n",
    "    b. `discard()`  \n",
    "    c. `pop()`  \n",
    "    d. `clear()`  \n",
    "    Answer: c\n",
    "\n",
    "15. **Which method returns a shallow copy of a list?**  \n",
    "    a. `copy()`  \n",
    "    b. `deepcopy()`  \n",
    "    c. `list()`  \n",
    "    d. `[:]`  \n",
    "    Answer: a and d\n",
    "\n",
    "16. **What is the primary difference between `remove()` and `discard()` for sets?**  \n",
    "    a. `remove()` raises an error if the element is not found, `discard()` does not  \n",
    "    b. `discard()` raises an error if the element is not found, `remove()` does not  \n",
    "    c. They do the same thing  \n",
    "    d. They are used for lists, not sets  \n",
    "    Answer: a\n",
    "\n",
    "17. **Which string method checks if a string starts with a specified prefix?**  \n",
    "    a. `startswith()`  \n",
    "    b. `endswith()`  \n",
    "    c. `find()`  \n",
    "    d. `index()`  \n",
    "    Answer: a\n",
    "\n",
    "18. **What does the `update()` method do for dictionaries?**  \n",
    "    a. Adds multiple key-value pairs from another dictionary or iterable  \n",
    "    b. Adds a single key-value pair  \n",
    "    c. Removes a key-value pair  \n",
    "    d. Merges two dictionaries into a new one  \n",
    "    Answer: d\n",
    "\n",
    "19. **Which of these is the correct way to create an empty set?**  \n",
    "    a. `{}`  \n",
    "    b. `set()`  \n",
    "    c. `[]`  \n",
    "    d. `()`  \n",
    "    Answer: b\n",
    "\n",
    "20. **What is the result of `type([1, 2, 3])`?**  \n",
    "    a. `list`  \n",
    "    b. `tuple`  \n",
    "    c. `set`  \n",
    "    d. `array`  \n",
    "    Answer: a"
   ]
  },
  {
   "cell_type": "code",
   "execution_count": 17,
   "metadata": {},
   "outputs": [],
   "source": [
    "new_list = [1,2,3,4,5]"
   ]
  },
  {
   "cell_type": "code",
   "execution_count": 18,
   "metadata": {},
   "outputs": [],
   "source": [
    "new_list1 = new_list.copy()"
   ]
  },
  {
   "cell_type": "code",
   "execution_count": 19,
   "metadata": {},
   "outputs": [
    {
     "data": {
      "text/plain": [
       "[1, 2, 3, 4, 5]"
      ]
     },
     "execution_count": 19,
     "metadata": {},
     "output_type": "execute_result"
    }
   ],
   "source": [
    "new_list1"
   ]
  },
  {
   "cell_type": "code",
   "execution_count": 21,
   "metadata": {},
   "outputs": [
    {
     "data": {
      "text/plain": [
       "5"
      ]
     },
     "execution_count": 21,
     "metadata": {},
     "output_type": "execute_result"
    }
   ],
   "source": [
    "new_list.pop()"
   ]
  },
  {
   "cell_type": "code",
   "execution_count": 22,
   "metadata": {},
   "outputs": [
    {
     "name": "stdout",
     "output_type": "stream",
     "text": [
      "[1, 2, 3, 4]\n",
      "[1, 2, 3, 4, 5]\n"
     ]
    }
   ],
   "source": [
    "print(new_list)\n",
    "print(new_list1)"
   ]
  },
  {
   "cell_type": "code",
   "execution_count": 23,
   "metadata": {},
   "outputs": [],
   "source": [
    "new_list2 = new_list1[:]"
   ]
  },
  {
   "cell_type": "code",
   "execution_count": 28,
   "metadata": {},
   "outputs": [
    {
     "data": {
      "text/plain": [
       "[1, 2, 3, 4, 5]"
      ]
     },
     "execution_count": 28,
     "metadata": {},
     "output_type": "execute_result"
    }
   ],
   "source": [
    "new_list2"
   ]
  },
  {
   "cell_type": "code",
   "execution_count": 26,
   "metadata": {},
   "outputs": [
    {
     "data": {
      "text/plain": [
       "5"
      ]
     },
     "execution_count": 26,
     "metadata": {},
     "output_type": "execute_result"
    }
   ],
   "source": [
    "new_list1.pop()"
   ]
  },
  {
   "cell_type": "code",
   "execution_count": 27,
   "metadata": {},
   "outputs": [
    {
     "data": {
      "text/plain": [
       "[1, 2, 3, 4]"
      ]
     },
     "execution_count": 27,
     "metadata": {},
     "output_type": "execute_result"
    }
   ],
   "source": [
    "new_list1"
   ]
  },
  {
   "cell_type": "code",
   "execution_count": 29,
   "metadata": {},
   "outputs": [],
   "source": [
    "new_dict = {1: 'one', 2: 'two'}"
   ]
  },
  {
   "cell_type": "code",
   "execution_count": 30,
   "metadata": {},
   "outputs": [],
   "source": [
    "new_dict.update({3: 'three', 4: 'four'})"
   ]
  },
  {
   "cell_type": "code",
   "execution_count": 31,
   "metadata": {},
   "outputs": [
    {
     "data": {
      "text/plain": [
       "{1: 'one', 2: 'two', 3: 'three', 4: 'four'}"
      ]
     },
     "execution_count": 31,
     "metadata": {},
     "output_type": "execute_result"
    }
   ],
   "source": [
    "new_dict"
   ]
  },
  {
   "cell_type": "code",
   "execution_count": 35,
   "metadata": {},
   "outputs": [
    {
     "data": {
      "text/plain": [
       "set"
      ]
     },
     "execution_count": 35,
     "metadata": {},
     "output_type": "execute_result"
    }
   ],
   "source": [
    "new_set = set()\n",
    "type(new_set)"
   ]
  },
  {
   "cell_type": "code",
   "execution_count": 43,
   "metadata": {},
   "outputs": [
    {
     "name": "stdout",
     "output_type": "stream",
     "text": [
      "रिया\n"
     ]
    }
   ],
   "source": [
    "u_code = '\\u0930'+'\\u093F'+'\\u092F'+'\\u093E'\n",
    "print(u_code)"
   ]
  },
  {
   "cell_type": "markdown",
   "metadata": {},
   "source": [
    "# Operators"
   ]
  },
  {
   "cell_type": "code",
   "execution_count": 44,
   "metadata": {},
   "outputs": [],
   "source": [
    "# + operator\n",
    "sum_ = 134 + 937"
   ]
  },
  {
   "cell_type": "code",
   "execution_count": 45,
   "metadata": {},
   "outputs": [
    {
     "data": {
      "text/plain": [
       "1071"
      ]
     },
     "execution_count": 45,
     "metadata": {},
     "output_type": "execute_result"
    }
   ],
   "source": [
    "sum_"
   ]
  },
  {
   "cell_type": "code",
   "execution_count": 46,
   "metadata": {},
   "outputs": [],
   "source": [
    "# concatenation\n",
    "\n",
    "con_str = 'python'+' '+ 'basics'"
   ]
  },
  {
   "cell_type": "code",
   "execution_count": 48,
   "metadata": {},
   "outputs": [
    {
     "data": {
      "text/plain": [
       "'python basics'"
      ]
     },
     "execution_count": 48,
     "metadata": {},
     "output_type": "execute_result"
    }
   ],
   "source": [
    "con_str"
   ]
  },
  {
   "cell_type": "code",
   "execution_count": 49,
   "metadata": {},
   "outputs": [
    {
     "data": {
      "text/plain": [
       "3.3333333333333335"
      ]
     },
     "execution_count": 49,
     "metadata": {},
     "output_type": "execute_result"
    }
   ],
   "source": [
    "10/3"
   ]
  },
  {
   "cell_type": "code",
   "execution_count": 50,
   "metadata": {},
   "outputs": [
    {
     "data": {
      "text/plain": [
       "4.0"
      ]
     },
     "execution_count": 50,
     "metadata": {},
     "output_type": "execute_result"
    }
   ],
   "source": [
    "12/3"
   ]
  },
  {
   "cell_type": "code",
   "execution_count": 51,
   "metadata": {},
   "outputs": [
    {
     "data": {
      "text/plain": [
       "3.142857142857143"
      ]
     },
     "execution_count": 51,
     "metadata": {},
     "output_type": "execute_result"
    }
   ],
   "source": [
    "22/7"
   ]
  },
  {
   "cell_type": "code",
   "execution_count": 52,
   "metadata": {},
   "outputs": [
    {
     "data": {
      "text/plain": [
       "3"
      ]
     },
     "execution_count": 52,
     "metadata": {},
     "output_type": "execute_result"
    }
   ],
   "source": [
    "10//3"
   ]
  },
  {
   "cell_type": "code",
   "execution_count": 53,
   "metadata": {},
   "outputs": [
    {
     "data": {
      "text/plain": [
       "3"
      ]
     },
     "execution_count": 53,
     "metadata": {},
     "output_type": "execute_result"
    }
   ],
   "source": [
    "22//7"
   ]
  },
  {
   "cell_type": "code",
   "execution_count": 54,
   "metadata": {},
   "outputs": [
    {
     "data": {
      "text/plain": [
       "1.4142135623730951"
      ]
     },
     "execution_count": 54,
     "metadata": {},
     "output_type": "execute_result"
    }
   ],
   "source": [
    "import math\n",
    "s_2 = math.sqrt(2)\n",
    "s_2"
   ]
  },
  {
   "cell_type": "code",
   "execution_count": 56,
   "metadata": {},
   "outputs": [
    {
     "data": {
      "text/plain": [
       "1"
      ]
     },
     "execution_count": 56,
     "metadata": {},
     "output_type": "execute_result"
    }
   ],
   "source": [
    "10%3"
   ]
  },
  {
   "cell_type": "code",
   "execution_count": 58,
   "metadata": {},
   "outputs": [
    {
     "data": {
      "text/plain": [
       "10"
      ]
     },
     "execution_count": 58,
     "metadata": {},
     "output_type": "execute_result"
    }
   ],
   "source": [
    "(10 + 300)%12"
   ]
  },
  {
   "cell_type": "code",
   "execution_count": 59,
   "metadata": {},
   "outputs": [
    {
     "data": {
      "text/plain": [
       "0"
      ]
     },
     "execution_count": 59,
     "metadata": {},
     "output_type": "execute_result"
    }
   ],
   "source": [
    "234%3"
   ]
  },
  {
   "cell_type": "code",
   "execution_count": 61,
   "metadata": {},
   "outputs": [
    {
     "data": {
      "text/plain": [
       "1"
      ]
     },
     "execution_count": 61,
     "metadata": {},
     "output_type": "execute_result"
    }
   ],
   "source": [
    "4%3"
   ]
  },
  {
   "cell_type": "code",
   "execution_count": 65,
   "metadata": {},
   "outputs": [
    {
     "data": {
      "text/plain": [
       "7776"
      ]
     },
     "execution_count": 65,
     "metadata": {},
     "output_type": "execute_result"
    }
   ],
   "source": [
    "# 5 dices. possible outcomes\n",
    "6**5"
   ]
  },
  {
   "cell_type": "code",
   "execution_count": 66,
   "metadata": {},
   "outputs": [
    {
     "data": {
      "text/plain": [
       "False"
      ]
     },
     "execution_count": 66,
     "metadata": {},
     "output_type": "execute_result"
    }
   ],
   "source": [
    "10/3 == 3.33"
   ]
  },
  {
   "cell_type": "code",
   "execution_count": 67,
   "metadata": {},
   "outputs": [
    {
     "data": {
      "text/plain": [
       "True"
      ]
     },
     "execution_count": 67,
     "metadata": {},
     "output_type": "execute_result"
    }
   ],
   "source": [
    "3.33 == 3.33"
   ]
  },
  {
   "cell_type": "code",
   "execution_count": 68,
   "metadata": {},
   "outputs": [
    {
     "data": {
      "text/plain": [
       "True"
      ]
     },
     "execution_count": 68,
     "metadata": {},
     "output_type": "execute_result"
    }
   ],
   "source": [
    "10/3 == 10/3"
   ]
  },
  {
   "cell_type": "code",
   "execution_count": 69,
   "metadata": {},
   "outputs": [
    {
     "data": {
      "text/plain": [
       "True"
      ]
     },
     "execution_count": 69,
     "metadata": {},
     "output_type": "execute_result"
    }
   ],
   "source": [
    "10/3 != 3.33"
   ]
  },
  {
   "cell_type": "code",
   "execution_count": 70,
   "metadata": {},
   "outputs": [
    {
     "data": {
      "text/plain": [
       "True"
      ]
     },
     "execution_count": 70,
     "metadata": {},
     "output_type": "execute_result"
    }
   ],
   "source": [
    "10/3 > 3.33"
   ]
  },
  {
   "cell_type": "code",
   "execution_count": 71,
   "metadata": {},
   "outputs": [
    {
     "data": {
      "text/plain": [
       "False"
      ]
     },
     "execution_count": 71,
     "metadata": {},
     "output_type": "execute_result"
    }
   ],
   "source": [
    "10/3 < 3.33"
   ]
  },
  {
   "cell_type": "code",
   "execution_count": 72,
   "metadata": {},
   "outputs": [
    {
     "data": {
      "text/plain": [
       "'Python Basics'"
      ]
     },
     "execution_count": 72,
     "metadata": {},
     "output_type": "execute_result"
    }
   ],
   "source": [
    "x = 'Python'\n",
    "x += ' Basics'\n",
    "x"
   ]
  },
  {
   "cell_type": "code",
   "execution_count": null,
   "metadata": {},
   "outputs": [],
   "source": [
    "#  101101\n",
    "# +010010\n",
    "# --------\n",
    "#  111111"
   ]
  },
  {
   "cell_type": "code",
   "execution_count": 76,
   "metadata": {},
   "outputs": [
    {
     "data": {
      "text/plain": [
       "'0b111111'"
      ]
     },
     "execution_count": 76,
     "metadata": {},
     "output_type": "execute_result"
    }
   ],
   "source": [
    "b_sum = int(b'101101',2) + int(b'010010',2)\n",
    "bin(b_sum)"
   ]
  },
  {
   "cell_type": "code",
   "execution_count": 77,
   "metadata": {},
   "outputs": [
    {
     "data": {
      "text/plain": [
       "45"
      ]
     },
     "execution_count": 77,
     "metadata": {},
     "output_type": "execute_result"
    }
   ],
   "source": [
    "int(b'101101',2)"
   ]
  },
  {
   "cell_type": "code",
   "execution_count": 78,
   "metadata": {},
   "outputs": [
    {
     "data": {
      "text/plain": [
       "18"
      ]
     },
     "execution_count": 78,
     "metadata": {},
     "output_type": "execute_result"
    }
   ],
   "source": [
    "int(b'010010',2)"
   ]
  },
  {
   "cell_type": "code",
   "execution_count": 80,
   "metadata": {},
   "outputs": [
    {
     "data": {
      "text/plain": [
       "'0b111111'"
      ]
     },
     "execution_count": 80,
     "metadata": {},
     "output_type": "execute_result"
    }
   ],
   "source": [
    "bin(45^18)"
   ]
  },
  {
   "cell_type": "code",
   "execution_count": null,
   "metadata": {},
   "outputs": [],
   "source": [
    "# OR operation\n",
    "# 1 | 0 = 1\n",
    "# 0 | 1 = 1\n",
    "# 0 | 0 = 0\n",
    "# 1 | 1 = 1\n",
    "\n",
    "# XOR operation\n",
    "# 1 ^ 0 = 1\n",
    "# 0 ^ 1 = 1\n",
    "# 0 ^ 0 = 0\n",
    "# 1 ^ 1 = 0"
   ]
  },
  {
   "cell_type": "code",
   "execution_count": null,
   "metadata": {},
   "outputs": [],
   "source": [
    "# AND\n",
    "#  101101 (45)\n",
    "# .010010 (18)\n",
    "# --------\n",
    "#  000000"
   ]
  },
  {
   "cell_type": "code",
   "execution_count": 81,
   "metadata": {},
   "outputs": [
    {
     "data": {
      "text/plain": [
       "'0b0'"
      ]
     },
     "execution_count": 81,
     "metadata": {},
     "output_type": "execute_result"
    }
   ],
   "source": [
    "bin(45&18)"
   ]
  },
  {
   "cell_type": "code",
   "execution_count": 83,
   "metadata": {},
   "outputs": [
    {
     "data": {
      "text/plain": [
       "'0b111111'"
      ]
     },
     "execution_count": 83,
     "metadata": {},
     "output_type": "execute_result"
    }
   ],
   "source": [
    "bin(45 | 18)"
   ]
  },
  {
   "cell_type": "code",
   "execution_count": 84,
   "metadata": {},
   "outputs": [
    {
     "data": {
      "text/plain": [
       "True"
      ]
     },
     "execution_count": 84,
     "metadata": {},
     "output_type": "execute_result"
    }
   ],
   "source": [
    "sunny = True\n",
    "temp_high = False\n",
    "\n",
    "weather_good = sunny and not temp_high\n",
    "weather_good"
   ]
  },
  {
   "cell_type": "code",
   "execution_count": 86,
   "metadata": {},
   "outputs": [
    {
     "data": {
      "text/plain": [
       "False"
      ]
     },
     "execution_count": 86,
     "metadata": {},
     "output_type": "execute_result"
    }
   ],
   "source": [
    "bool(1 and 0)"
   ]
  },
  {
   "cell_type": "code",
   "execution_count": 93,
   "metadata": {},
   "outputs": [
    {
     "data": {
      "text/plain": [
       "0"
      ]
     },
     "execution_count": 93,
     "metadata": {},
     "output_type": "execute_result"
    }
   ],
   "source": [
    "0 and 2"
   ]
  },
  {
   "cell_type": "code",
   "execution_count": 96,
   "metadata": {},
   "outputs": [
    {
     "data": {
      "text/plain": [
       "''"
      ]
     },
     "execution_count": 96,
     "metadata": {},
     "output_type": "execute_result"
    }
   ],
   "source": [
    "'' and 'Yes'"
   ]
  },
  {
   "cell_type": "code",
   "execution_count": 100,
   "metadata": {},
   "outputs": [
    {
     "data": {
      "text/plain": [
       "'0b10110'"
      ]
     },
     "execution_count": 100,
     "metadata": {},
     "output_type": "execute_result"
    }
   ],
   "source": [
    "#  101101 (45)\n",
    "#  left to right shift once\n",
    "#  010110 (22)\n",
    "x = 45 >> 1\n",
    "bin(x)"
   ]
  },
  {
   "cell_type": "code",
   "execution_count": null,
   "metadata": {},
   "outputs": [],
   "source": [
    "#  0000000101101 (45)\n",
    "#  right to left shift once\n",
    "#  0000001011010 (90)"
   ]
  },
  {
   "cell_type": "code",
   "execution_count": 101,
   "metadata": {},
   "outputs": [
    {
     "data": {
      "text/plain": [
       "'0b1011010'"
      ]
     },
     "execution_count": 101,
     "metadata": {},
     "output_type": "execute_result"
    }
   ],
   "source": [
    "x = 45 << 1\n",
    "bin(x)"
   ]
  },
  {
   "cell_type": "code",
   "execution_count": 107,
   "metadata": {},
   "outputs": [
    {
     "data": {
      "text/plain": [
       "1024"
      ]
     },
     "execution_count": 107,
     "metadata": {},
     "output_type": "execute_result"
    }
   ],
   "source": [
    "2 << (10-1)"
   ]
  },
  {
   "cell_type": "code",
   "execution_count": 106,
   "metadata": {},
   "outputs": [
    {
     "data": {
      "text/plain": [
       "1024"
      ]
     },
     "execution_count": 106,
     "metadata": {},
     "output_type": "execute_result"
    }
   ],
   "source": [
    "2 ** 10"
   ]
  },
  {
   "cell_type": "code",
   "execution_count": 110,
   "metadata": {},
   "outputs": [
    {
     "data": {
      "text/plain": [
       "True"
      ]
     },
     "execution_count": 110,
     "metadata": {},
     "output_type": "execute_result"
    }
   ],
   "source": [
    "x = False\n",
    "not x"
   ]
  },
  {
   "cell_type": "code",
   "execution_count": 116,
   "metadata": {},
   "outputs": [
    {
     "data": {
      "text/plain": [
       "-46"
      ]
     },
     "execution_count": 116,
     "metadata": {},
     "output_type": "execute_result"
    }
   ],
   "source": [
    "~ int('0b101101', 2)"
   ]
  },
  {
   "cell_type": "code",
   "execution_count": 117,
   "metadata": {},
   "outputs": [
    {
     "name": "stdout",
     "output_type": "stream",
     "text": [
      "item is part of the list\n"
     ]
    }
   ],
   "source": [
    "l1 = [1,4,2,56,7,0]\n",
    "item = 7\n",
    "if item in l1:\n",
    "    print('item is part of the list')\n",
    "if item not in l1:\n",
    "    print('item is NOT part of the list')"
   ]
  },
  {
   "cell_type": "code",
   "execution_count": 119,
   "metadata": {},
   "outputs": [
    {
     "data": {
      "text/plain": [
       "False"
      ]
     },
     "execution_count": 119,
     "metadata": {},
     "output_type": "execute_result"
    }
   ],
   "source": [
    "str1 = 'python programming'\n",
    "'python  ' in str1"
   ]
  },
  {
   "cell_type": "code",
   "execution_count": 120,
   "metadata": {},
   "outputs": [
    {
     "data": {
      "text/plain": [
       "False"
      ]
     },
     "execution_count": 120,
     "metadata": {},
     "output_type": "execute_result"
    }
   ],
   "source": [
    "a = '1234'\n",
    "b = '1'\n",
    "a is b"
   ]
  },
  {
   "cell_type": "code",
   "execution_count": 121,
   "metadata": {},
   "outputs": [
    {
     "data": {
      "text/plain": [
       "True"
      ]
     },
     "execution_count": 121,
     "metadata": {},
     "output_type": "execute_result"
    }
   ],
   "source": [
    "a = '1234'\n",
    "b = '1234'\n",
    "a is b"
   ]
  },
  {
   "cell_type": "code",
   "execution_count": 122,
   "metadata": {},
   "outputs": [
    {
     "name": "stderr",
     "output_type": "stream",
     "text": [
      "<>:1: SyntaxWarning: \"is\" with 'int' literal. Did you mean \"==\"?\n",
      "<>:1: SyntaxWarning: \"is\" with 'int' literal. Did you mean \"==\"?\n",
      "C:\\Users\\mnknt\\AppData\\Local\\Temp\\ipykernel_45696\\3964195525.py:1: SyntaxWarning: \"is\" with 'int' literal. Did you mean \"==\"?\n",
      "  0 is 0.0\n"
     ]
    },
    {
     "data": {
      "text/plain": [
       "False"
      ]
     },
     "execution_count": 122,
     "metadata": {},
     "output_type": "execute_result"
    }
   ],
   "source": [
    "0 is 0.0"
   ]
  },
  {
   "cell_type": "code",
   "execution_count": 123,
   "metadata": {},
   "outputs": [
    {
     "data": {
      "text/plain": [
       "True"
      ]
     },
     "execution_count": 123,
     "metadata": {},
     "output_type": "execute_result"
    }
   ],
   "source": [
    "0 == 0.0"
   ]
  },
  {
   "cell_type": "code",
   "execution_count": 124,
   "metadata": {},
   "outputs": [
    {
     "data": {
      "text/plain": [
       "True"
      ]
     },
     "execution_count": 124,
     "metadata": {},
     "output_type": "execute_result"
    }
   ],
   "source": [
    "a = 10\n",
    "b = a\n",
    "\n",
    "a is b"
   ]
  },
  {
   "cell_type": "code",
   "execution_count": 125,
   "metadata": {},
   "outputs": [
    {
     "data": {
      "text/plain": [
       "False"
      ]
     },
     "execution_count": 125,
     "metadata": {},
     "output_type": "execute_result"
    }
   ],
   "source": [
    "(10 == 9) and (10 != 10)"
   ]
  },
  {
   "cell_type": "code",
   "execution_count": 133,
   "metadata": {},
   "outputs": [
    {
     "data": {
      "text/plain": [
       "str"
      ]
     },
     "execution_count": 133,
     "metadata": {},
     "output_type": "execute_result"
    }
   ],
   "source": [
    "inp = input(\"provide input:\")\n",
    "type(inp)"
   ]
  },
  {
   "cell_type": "code",
   "execution_count": 135,
   "metadata": {},
   "outputs": [
    {
     "name": "stdout",
     "output_type": "stream",
     "text": [
      "<class 'str'>\n"
     ]
    }
   ],
   "source": [
    "# x = int(inp)\n",
    "print(type(inp))"
   ]
  },
  {
   "cell_type": "code",
   "execution_count": 136,
   "metadata": {},
   "outputs": [],
   "source": [
    "a = 10\n",
    "b = 20\n",
    "c = 30"
   ]
  },
  {
   "cell_type": "code",
   "execution_count": 144,
   "metadata": {},
   "outputs": [
    {
     "name": "stdout",
     "output_type": "stream",
     "text": [
      "10,20,30 20\n",
      "30\n"
     ]
    }
   ],
   "source": [
    "print(a,b,c, sep=',', end=' ')\n",
    "print(b)\n",
    "print(c)"
   ]
  },
  {
   "cell_type": "markdown",
   "metadata": {},
   "source": [
    "# Flow control"
   ]
  },
  {
   "cell_type": "code",
   "execution_count": 145,
   "metadata": {},
   "outputs": [
    {
     "name": "stdout",
     "output_type": "stream",
     "text": [
      "item is part of the list\n"
     ]
    }
   ],
   "source": [
    "# if conditional statement\n",
    "l1 = [1,4,2,56,7,0]\n",
    "item = 7\n",
    "if item in l1 and type(item) is int:\n",
    "    print('item is part of the list')"
   ]
  },
  {
   "cell_type": "code",
   "execution_count": 147,
   "metadata": {},
   "outputs": [
    {
     "name": "stdout",
     "output_type": "stream",
     "text": [
      "this is star\n"
     ]
    }
   ],
   "source": [
    "if 'star':\n",
    "    print('this is star')"
   ]
  },
  {
   "cell_type": "code",
   "execution_count": 146,
   "metadata": {},
   "outputs": [
    {
     "data": {
      "text/plain": [
       "True"
      ]
     },
     "execution_count": 146,
     "metadata": {},
     "output_type": "execute_result"
    }
   ],
   "source": [
    "bool('star')"
   ]
  },
  {
   "cell_type": "code",
   "execution_count": 153,
   "metadata": {},
   "outputs": [
    {
     "name": "stdout",
     "output_type": "stream",
     "text": [
      "this is 0\n"
     ]
    }
   ],
   "source": [
    "if '\\n':\n",
    "    print('this is 0')"
   ]
  },
  {
   "cell_type": "code",
   "execution_count": 151,
   "metadata": {},
   "outputs": [
    {
     "data": {
      "text/plain": [
       "True"
      ]
     },
     "execution_count": 151,
     "metadata": {},
     "output_type": "execute_result"
    }
   ],
   "source": [
    "bool(-1)"
   ]
  },
  {
   "cell_type": "code",
   "execution_count": 156,
   "metadata": {},
   "outputs": [
    {
     "name": "stdout",
     "output_type": "stream",
     "text": [
      "Not good weather\n"
     ]
    }
   ],
   "source": [
    "# if else statement\n",
    "\n",
    "weather = 'Normal'\n",
    "\n",
    "if weather == 'Good':\n",
    "    print('good weather \\u26C5')\n",
    "else:\n",
    "    print('Not good weather')"
   ]
  },
  {
   "cell_type": "code",
   "execution_count": 163,
   "metadata": {},
   "outputs": [
    {
     "name": "stdout",
     "output_type": "stream",
     "text": [
      "Outcome type is:Sunny\n",
      "Humidity is:19\n",
      "Dry weather\n",
      "end of weather forcast\n"
     ]
    }
   ],
   "source": [
    "# if else statement\n",
    "import random\n",
    "\n",
    "outcome = random.choice(['Sunny','Overcast','cloudy','Clear'])\n",
    "humidity = random.randint(0,100)\n",
    "\n",
    "print(f\"Outcome type is:{outcome}\")\n",
    "print(f\"Humidity is:{humidity}\")\n",
    "\n",
    "if outcome == 'Clear' and humidity > 50 and humidity < 80:\n",
    "    print('good weather \\u26C5')\n",
    "elif outcome == 'cloudy' and humidity > 30 and humidity < 85:\n",
    "    print('Normal weather')\n",
    "elif outcome == 'Overcast' and humidity > 85:\n",
    "    print('Rainy weather')\n",
    "elif outcome == 'Sunny' and humidity < 30:\n",
    "    print('Dry weather')\n",
    "else:\n",
    "    print('Strange weather')\n",
    "print(\"end of weather forcast\")"
   ]
  },
  {
   "cell_type": "code",
   "execution_count": 178,
   "metadata": {},
   "outputs": [
    {
     "name": "stdout",
     "output_type": "stream",
     "text": [
      "input provided by the user is 8382092.92929210.03930\n",
      "it is not a number\n"
     ]
    }
   ],
   "source": [
    "# Nested if statement\n",
    "inp = input()\n",
    "print(f\"input provided by the user is {inp}\")\n",
    "\n",
    "# check wether the input is of type number\n",
    "if inp.isnumeric():\n",
    "    print(\"it is a number\")\n",
    "elif '.' in inp:\n",
    "    t_inp = inp.replace('.','',1)\n",
    "    t_inp = t_inp.replace('-','',1)\n",
    "    if t_inp.isnumeric():\n",
    "        print('it is a fractional number')\n",
    "    else:\n",
    "        print(\"it is not a number\")\n",
    "else:\n",
    "    print(\"it is not a number\")"
   ]
  },
  {
   "cell_type": "code",
   "execution_count": 189,
   "metadata": {},
   "outputs": [
    {
     "name": "stdout",
     "output_type": "stream",
     "text": [
      "Outcome type is:Undecidable\n",
      "Humidity is:60\n",
      "Strange weather\n",
      "end of weather forcast\n"
     ]
    }
   ],
   "source": [
    "# if else statement\n",
    "import random\n",
    "\n",
    "outcome = random.choice(['Sunny','Overcast','cloudy','Clear','Undecidable'])\n",
    "humidity = random.randint(0,100)\n",
    "\n",
    "print(f\"Outcome type is:{outcome}\")\n",
    "print(f\"Humidity is:{humidity}\")\n",
    "\n",
    "match outcome:\n",
    "    case 'Clear':\n",
    "        if humidity > 50 and humidity < 80:\n",
    "            print('good weather \\u26C5')\n",
    "        else:\n",
    "            print('Strange weather')\n",
    "    case 'cloudy':\n",
    "        if humidity > 30 and humidity < 85:\n",
    "            print('Normal weather')\n",
    "        else:\n",
    "            print('Strange weather')\n",
    "    case 'Overcast':\n",
    "        if humidity > 85:\n",
    "            print('Rainy weather')\n",
    "        else:\n",
    "            print('Strange weather')\n",
    "    case 'Sunny':\n",
    "        if humidity < 30:\n",
    "            print('Dry weather')\n",
    "        else:\n",
    "            print('Strange weather')\n",
    "    case _:\n",
    "        print('Strange weather')\n",
    "print(\"end of weather forcast\")"
   ]
  },
  {
   "cell_type": "markdown",
   "metadata": {},
   "source": [
    "# LOOPS"
   ]
  },
  {
   "cell_type": "code",
   "execution_count": null,
   "metadata": {},
   "outputs": [],
   "source": [
    "# While loop\n",
    "\n",
    "while condition1 :\n",
    "    statement1\n",
    "    statement2\n",
    "    statement3\n",
    "statement 4\n",
    "statement 5"
   ]
  },
  {
   "cell_type": "code",
   "execution_count": 193,
   "metadata": {},
   "outputs": [
    {
     "name": "stdout",
     "output_type": "stream",
     "text": [
      "0,1,2,3,4,5,6,7,8,9,10,11,12\n"
     ]
    }
   ],
   "source": [
    "# print all the integers upto n starting from 0\n",
    "\n",
    "n = input(\"Enter a number to print all the integers starting from 0 to this number\")\n",
    "n = int(n)\n",
    "\n",
    "i = 0\n",
    "while i <= n:\n",
    "    if i<n:\n",
    "        print(i, end=',')\n",
    "    else:\n",
    "        print(i)\n",
    "    i += 1\n"
   ]
  },
  {
   "cell_type": "code",
   "execution_count": 194,
   "metadata": {},
   "outputs": [
    {
     "name": "stdout",
     "output_type": "stream",
     "text": [
      "0,1,2,3,4,5,6,7,8,9,10,11,12\n"
     ]
    }
   ],
   "source": [
    "# print all the integers upto n starting from 0\n",
    "\n",
    "n = input(\"Enter a number to print all the integers starting from 0 to this number\")\n",
    "n = int(n)\n",
    "\n",
    "i = 0\n",
    "while True:\n",
    "    if i<n:\n",
    "        print(i, end=',')\n",
    "    else:\n",
    "        print(i)\n",
    "    i += 1\n",
    "    if i>n:\n",
    "        break"
   ]
  },
  {
   "cell_type": "code",
   "execution_count": 201,
   "metadata": {},
   "outputs": [
    {
     "name": "stdout",
     "output_type": "stream",
     "text": [
      "1,3,5,7,9,11,13\n"
     ]
    }
   ],
   "source": [
    "# print all the odd integers upto n starting from 0\n",
    "\n",
    "n = input(\"Enter a number to print all the odd integers starting from 0 to this number\")\n",
    "n = int(n)\n",
    "\n",
    "i = 0\n",
    "while i <= n:\n",
    "    if i % 2 == 1:\n",
    "        if i < n and i+1 < n:\n",
    "            print(i, end=',')\n",
    "        else:\n",
    "            print(i)\n",
    "    i += 1"
   ]
  },
  {
   "cell_type": "code",
   "execution_count": 204,
   "metadata": {},
   "outputs": [
    {
     "name": "stdout",
     "output_type": "stream",
     "text": [
      "0,1,1,2,3,5,8,13,21,"
     ]
    }
   ],
   "source": [
    "# print all the fibonacci numbers till N\n",
    "# f(n) = f(n-1) + f(n-2)\n",
    "# eg.: 0,1,1,2,3,5,8,13,21,34........\n",
    "\n",
    "N = input(\"Enter the value of N\")\n",
    "N = int(N)\n",
    "\n",
    "i = 0\n",
    "j = 1\n",
    "while i < N:\n",
    "    print(i, end=',')\n",
    "    k = i\n",
    "    i = j\n",
    "    j = k + j"
   ]
  },
  {
   "cell_type": "code",
   "execution_count": 207,
   "metadata": {},
   "outputs": [
    {
     "name": "stdout",
     "output_type": "stream",
     "text": [
      "I,I,A,A,E,I,"
     ]
    }
   ],
   "source": [
    "# For loop\n",
    "\n",
    "# print all the vowels in the string provided as input from user\n",
    "\n",
    "Sentence = input(\"Enter a string value\")\n",
    "\n",
    "vowel_list = ['a', 'e', 'i', 'o', 'u']\n",
    "\n",
    "for char in Sentence:\n",
    "    if char.lower() in vowel_list:\n",
    "        print(char, end=',')\n"
   ]
  },
  {
   "cell_type": "code",
   "execution_count": 211,
   "metadata": {},
   "outputs": [
    {
     "name": "stdout",
     "output_type": "stream",
     "text": [
      "i,a,e\n"
     ]
    }
   ],
   "source": [
    "# For loop\n",
    "\n",
    "# print all the unique vowels as lowercase in the string provided as input from user\n",
    "\n",
    "Sentence = input(\"Enter a string value\")\n",
    "\n",
    "vowel_list = ['a', 'e', 'i', 'o', 'u']\n",
    "\n",
    "results = set()\n",
    "\n",
    "for char in Sentence:\n",
    "    if char.lower() in vowel_list:\n",
    "        results.add(char.lower())\n",
    "        # print(char, end=',')\n",
    "print(','.join(results))"
   ]
  },
  {
   "cell_type": "code",
   "execution_count": 214,
   "metadata": {},
   "outputs": [
    {
     "name": "stdout",
     "output_type": "stream",
     "text": [
      "sample\n"
     ]
    }
   ],
   "source": [
    "# print the string having maximum length in a list\n",
    "# if you have more than one string with maximum length, print the one appearing first\n",
    "# sample input ['This', 'is', 'a', 'sample', 'string']\n",
    "# sample output: sample\n",
    "\n",
    "list_strings = input(\"Enter the strings seperated by comma\")\n",
    "list_strings = list_strings.split(',')\n",
    "\n",
    "# print(list_strings)\n",
    "max_len = 0\n",
    "max_len_str = ''\n",
    "for str_ in list_strings:\n",
    "    if len(str_) > max_len:\n",
    "        max_len = len(str_)\n",
    "        max_len_str = str_\n",
    "print(max_len_str)\n"
   ]
  },
  {
   "cell_type": "code",
   "execution_count": 215,
   "metadata": {},
   "outputs": [
    {
     "name": "stdout",
     "output_type": "stream",
     "text": [
      "string\n"
     ]
    }
   ],
   "source": [
    "# print the string having maximum length in a list\n",
    "# if you have more than one string with maximum length, print the one appearing last\n",
    "# sample input ['This', 'is', 'a', 'sample', 'string']\n",
    "# sample output: string\n",
    "\n",
    "list_strings = input(\"Enter the strings seperated by comma\")\n",
    "list_strings = list_strings.split(',')\n",
    "\n",
    "# print(list_strings)\n",
    "max_len = 0\n",
    "max_len_str = ''\n",
    "for str_ in list_strings:\n",
    "    if len(str_) >= max_len:\n",
    "        max_len = len(str_)\n",
    "        max_len_str = str_\n",
    "print(max_len_str)"
   ]
  },
  {
   "cell_type": "code",
   "execution_count": 216,
   "metadata": {},
   "outputs": [
    {
     "name": "stdout",
     "output_type": "stream",
     "text": [
      "2\n",
      "sample\n"
     ]
    }
   ],
   "source": [
    "# print the string having maximum number of vowels in a list of strings\n",
    "# if you have more than one string with maximum number of vowels, print the one appearing first\n",
    "# sample input ['This', 'is', 'a', 'sample', 'string']\n",
    "# sample output: sample\n",
    "\n",
    "list_strings = input(\"Enter the strings seperated by comma\")\n",
    "list_strings = list_strings.split(',')\n",
    "\n",
    "max_num_vow = 0\n",
    "max_num_vow_str = ''\n",
    "vowel_list = ['a', 'e', 'i', 'o', 'u']\n",
    "\n",
    "for str_ in list_strings:\n",
    "    c = 0\n",
    "    for char in str_:\n",
    "        if char.lower() in vowel_list:\n",
    "            c += 1\n",
    "    if c > max_num_vow:\n",
    "        max_num_vow = c\n",
    "        max_num_vow_str = str_\n",
    "\n",
    "# print(max_num_vow)\n",
    "print(max_num_vow_str)\n"
   ]
  },
  {
   "cell_type": "markdown",
   "metadata": {},
   "source": [
    "### For a given input as N print the pattern in following way:\n",
    "for example for N=3, the pattern looks like:  "
   ]
  },
  {
   "cell_type": "code",
   "execution_count": null,
   "metadata": {},
   "outputs": [],
   "source": [
    "#     1  \n",
    "#   1 2 1  \n",
    "# 1 2 3 2 1"
   ]
  },
  {
   "cell_type": "code",
   "execution_count": 225,
   "metadata": {},
   "outputs": [
    {
     "name": "stdout",
     "output_type": "stream",
     "text": [
      "        1\n",
      "       121\n",
      "      12321\n",
      "     1234321\n",
      "    123454321\n",
      "   12345654321\n",
      "  1234567654321\n",
      " 123456787654321\n",
      "12345678987654321\n"
     ]
    }
   ],
   "source": [
    "N = int(input())\n",
    "\n",
    "for i in range(N):  # loop1 or master loop\n",
    "    # triangle 1\n",
    "    for j in range(N-i-1):\n",
    "        print(\" \", end='')\n",
    "    # # triangle 2\n",
    "    # for k in range(i+1):\n",
    "    #     print(k+1, end='')\n",
    "    # # triangle 3\n",
    "    # for l in range(i,0,-1):  \n",
    "    #     print(l, end='')\n",
    "    print(int('1'*(i+1))**2)\n",
    "    # print()\n",
    "    \n",
    "    "
   ]
  },
  {
   "cell_type": "code",
   "execution_count": 232,
   "metadata": {},
   "outputs": [],
   "source": [
    "def max_of_2_numbers(x,y):\n",
    "    return lambda x,y: x if x>y else y"
   ]
  },
  {
   "cell_type": "code",
   "execution_count": 234,
   "metadata": {},
   "outputs": [],
   "source": [
    "f = max_of_2_numbers(2,3)"
   ]
  },
  {
   "cell_type": "code",
   "execution_count": 235,
   "metadata": {},
   "outputs": [
    {
     "data": {
      "text/plain": [
       "3"
      ]
     },
     "execution_count": 235,
     "metadata": {},
     "output_type": "execute_result"
    }
   ],
   "source": [
    "f(2,3)"
   ]
  },
  {
   "cell_type": "markdown",
   "metadata": {},
   "source": [
    "https://www.hackerrank.com/challenges/most-commons/problem?isFullScreen=true\n"
   ]
  },
  {
   "cell_type": "markdown",
   "metadata": {},
   "source": [
    "## Data types problems\n",
    "- https://www.hackerrank.com/challenges/python-lists/problem?isFullScreen=true\n",
    "- https://www.hackerrank.com/challenges/find-second-maximum-number-in-a-list/problem?isFullScreen=true\n",
    "- https://www.hackerrank.com/challenges/nested-list/problem?isFullScreen=true\n",
    "- https://www.hackerrank.com/challenges/python-tuples/problem?isFullScreen=true\n",
    "- https://www.hackerrank.com/challenges/py-check-strict-superset/problem?isFullScreen=true\n",
    "- https://www.hackerrank.com/challenges/python-string-split-and-join/problem?isFullScreen=true\n",
    "- https://www.hackerrank.com/challenges/finding-the-percentage/problem?isFullScreen=true\n",
    "- https://www.w3resource.com/python-exercises/python-data-types.php#google_vignette"
   ]
  },
  {
   "cell_type": "code",
   "execution_count": 237,
   "metadata": {},
   "outputs": [
    {
     "name": "stdout",
     "output_type": "stream",
     "text": [
      "Factorial of 5 is 120\n"
     ]
    }
   ],
   "source": [
    "# Factorial of a number\n",
    "# N! = N * N-1 * N-2 * N-3 * ....... * 3 * 2 * 1\n",
    "# 5! = 5 * 4 * 3 * 2 * 1 = 120\n",
    "# 3! = 3 * 2 * 1 = 6\n",
    "\n",
    "inp = int(input(\"Enter a number to calculate factorial\"))\n",
    "inp1 = inp\n",
    "\n",
    "fact = 1\n",
    "\n",
    "while inp > 0:\n",
    "    fact *= inp\n",
    "    inp -= 1\n",
    "\n",
    "print(f\"Factorial of {inp1} is {fact}\")"
   ]
  },
  {
   "cell_type": "code",
   "execution_count": 238,
   "metadata": {},
   "outputs": [
    {
     "name": "stdout",
     "output_type": "stream",
     "text": [
      "Factorial of 5 is 120\n"
     ]
    }
   ],
   "source": [
    "inp = int(input(\"Enter a number to calculate factorial\"))\n",
    "\n",
    "fact = 1\n",
    "for i in range(inp,1,-1):\n",
    "    fact *= i\n",
    "\n",
    "print(f\"Factorial of {inp} is {fact}\")"
   ]
  },
  {
   "cell_type": "code",
   "execution_count": 271,
   "metadata": {},
   "outputs": [
    {
     "name": "stdout",
     "output_type": "stream",
     "text": [
      " *** \n",
      "*   *\n",
      "*   *\n",
      "*****\n",
      "*   *\n",
      "*   *\n",
      "*   *\n"
     ]
    }
   ],
   "source": [
    "# Write a Python program to print the alphabet pattern 'A'.\n",
    "# Expected Output:\n",
    "\n",
    "#   ***                                                                   \n",
    "#  *   *                                                                  \n",
    "#  *   *                                                                  \n",
    "#  *****                                                                  \n",
    "#  *   *                                                                  \n",
    "#  *   *                                                                  \n",
    "#  *   *\n",
    "\n",
    "size = int(input())\n",
    "for i in range(size+2):\n",
    "    if i==0: # to print the first line\n",
    "        astrix = \"*\" * (size-2)\n",
    "        print(\" \"+astrix+\" \")\n",
    "    elif i == (size+1)//2: # to print middle line\n",
    "        print(\"*\"*size)\n",
    "    else: # to print all other lines\n",
    "        spaces = \" \"*(size-2)\n",
    "        print(\"*\"+spaces+\"*\")"
   ]
  },
  {
   "cell_type": "code",
   "execution_count": null,
   "metadata": {},
   "outputs": [
    {
     "name": "stdout",
     "output_type": "stream",
     "text": [
      "{' ': 9, 'a': 1, 'b': 1, 'c': 1, 'd': 1, 'e': 3, 'f': 1, 'g': 2, 'h': 3, 'i': 2, 'j': 1, 'k': 1, 'l': 1, 'm': 1, 'n': 1, 'o': 4, 'p': 1, 'q': 1, 'r': 3, 's': 1, 't': 3, 'u': 2, 'v': 1, 'w': 1, 'x': 1, 'y': 1, 'z': 1}\n",
      "the quick brown fox jumps right over the lazy dog\n",
      "' ' occurs 9 times.\n",
      "'a' occurs 1 times.\n",
      "'b' occurs 1 times.\n",
      "'c' occurs 1 times.\n",
      "'d' occurs 1 times.\n",
      "'e' occurs 3 times.\n",
      "'f' occurs 1 times.\n",
      "'g' occurs 2 times.\n",
      "'h' occurs 3 times.\n",
      "'i' occurs 2 times.\n",
      "'j' occurs 1 times.\n",
      "'k' occurs 1 times.\n",
      "'l' occurs 1 times.\n",
      "'m' occurs 1 times.\n",
      "'n' occurs 1 times.\n",
      "'o' occurs 4 times.\n",
      "'p' occurs 1 times.\n",
      "'q' occurs 1 times.\n",
      "'r' occurs 3 times.\n",
      "'s' occurs 1 times.\n",
      "'t' occurs 3 times.\n",
      "'u' occurs 2 times.\n",
      "'v' occurs 1 times.\n",
      "'w' occurs 1 times.\n",
      "'x' occurs 1 times.\n",
      "'y' occurs 1 times.\n",
      "'z' occurs 1 times.\n"
     ]
    }
   ],
   "source": [
    "# Write a Python program to count the number of characters (character frequency) in a string.\n",
    "\n",
    "# taking input from user and storing the string in inp\n",
    "inp = input()\n",
    "\n",
    "# create a dictionary to store count of each character\n",
    "count_dict = {}\n",
    "\n",
    "for char in inp: # go through each character in the user input inp\n",
    "    if char in count_dict: # if character is stored in dictionary then increase the count by one\n",
    "        count_dict[char] = count_dict[char] + 1\n",
    "    else: # if the character is not stored in the dictionary then store it and assign the count as one\n",
    "        count_dict[char] = 1\n",
    "\n",
    "# sort the counts alphabetically\n",
    "count_dict = dict(sorted(count_dict.items()))\n",
    "# print count of all the characters.\n",
    "print(inp)\n",
    "for char, count in count_dict.items():\n",
    "    print(f\"'{char}' occurs {count} times.\")"
   ]
  },
  {
   "cell_type": "code",
   "execution_count": 284,
   "metadata": {},
   "outputs": [
    {
     "name": "stdout",
     "output_type": "stream",
     "text": [
      "['0100', '0011', '1010', '1001', '1100', '1001', '1111', '110010']\n",
      "The binary number(s) divisible by 5 is/are: \n",
      "1010 1111 110010 "
     ]
    }
   ],
   "source": [
    "# Write a Python program that accepts a sequence of comma separated 4 digit binary numbers as its input. The program will print the numbers that are divisible by 5 in a comma separated sequence.\n",
    "# Sample Data : 0100 (4), 0011 (3), 1010 (10), 1001 (9), 1100 (12), 1001 (9), 1111 (15), \n",
    "# 0100,0011,1010,1001,1100,1001,1111,110010\n",
    "# Expected Output : 1010\n",
    "\n",
    "inp_bin = input()\n",
    "bin_list = inp_bin.split(',')\n",
    "print(bin_list)\n",
    "\n",
    "print(\"The binary number(s) divisible by 5 is/are: \")\n",
    "for bin_num in bin_list:\n",
    "    if int(bin_num, 2)%5 == 0:\n",
    "        print(bin_num, end=' ')"
   ]
  },
  {
   "cell_type": "code",
   "execution_count": 290,
   "metadata": {},
   "outputs": [
    {
     "name": "stdout",
     "output_type": "stream",
     "text": [
      "1 1 2 3 5 8 13 21 34 "
     ]
    }
   ],
   "source": [
    "# Write a Python program to get the Fibonacci series between 0 and 50.\n",
    "# Note : The Fibonacci Sequence is the series of numbers :\n",
    "# 0, 1, 1, 2, 3, 5, 8, 13, 21, ....\n",
    "# Every next number is found by adding up the two numbers before it.\n",
    "# Expected Output : 1 1 2 3 5 8 13 21 34\n",
    "\n",
    "# iterative method (using loops)\n",
    "\n",
    "prev = 0\n",
    "curr = 1\n",
    "\n",
    "# prev, curr, next\n",
    "\n",
    "while curr < 50: # check if curr is less than 50, if not, exit out of the loop\n",
    "    print(curr, end=' ') # print the curr value\n",
    "    next = prev + curr # next value is updated as prev + curr\n",
    "    prev = curr # previous value is updated to the current value\n",
    "    curr = next # current value is updated to the next value.\n",
    "    \n"
   ]
  },
  {
   "cell_type": "code",
   "execution_count": 291,
   "metadata": {},
   "outputs": [
    {
     "name": "stdout",
     "output_type": "stream",
     "text": [
      "1 1 2 3 5 8 13 21 34 "
     ]
    }
   ],
   "source": [
    "# iterative method (using for loop)\n",
    "\n",
    "prev = 0\n",
    "curr = 1\n",
    "\n",
    "# prev, curr, next\n",
    "\n",
    "for _ in range(50):\n",
    "    if (curr > 50):\n",
    "        break\n",
    "    print(curr, end=' ') # print the curr value\n",
    "    next = prev + curr # next value is updated as prev + curr\n",
    "    prev = curr # previous value is updated to the current value\n",
    "    curr = next # current value is updated to the next value."
   ]
  },
  {
   "cell_type": "code",
   "execution_count": 302,
   "metadata": {},
   "outputs": [
    {
     "name": "stdout",
     "output_type": "stream",
     "text": [
      "0 1 1 2 3 5 8 13 21 34 "
     ]
    }
   ],
   "source": [
    "# recursion method (using recursive function)\n",
    "\n",
    "def fibonacci(n):\n",
    "    if n == 0: # base case\n",
    "        return 0\n",
    "    if n == 1 or n == 2: # base case\n",
    "        return 1\n",
    "    return fibonacci(n-2)+ fibonacci(n-1) # recursive step\n",
    "\n",
    "for i in range(50):\n",
    "    seq_element = fibonacci(i)\n",
    "    if seq_element > 50:\n",
    "        break\n",
    "    print(seq_element, end=' ')\n"
   ]
  },
  {
   "cell_type": "code",
   "execution_count": 303,
   "metadata": {},
   "outputs": [
    {
     "data": {
      "text/plain": [
       "3"
      ]
     },
     "execution_count": 303,
     "metadata": {},
     "output_type": "execute_result"
    }
   ],
   "source": [
    "fibonacci(4)"
   ]
  },
  {
   "cell_type": "code",
   "execution_count": 305,
   "metadata": {},
   "outputs": [
    {
     "data": {
      "text/plain": [
       "3000"
      ]
     },
     "execution_count": 305,
     "metadata": {},
     "output_type": "execute_result"
    }
   ],
   "source": [
    "import sys \n",
    "sys.getrecursionlimit()"
   ]
  },
  {
   "cell_type": "code",
   "execution_count": null,
   "metadata": {},
   "outputs": [
    {
     "name": "stdout",
     "output_type": "stream",
     "text": [
      "[12, 35, 83, 65, 2, 7, 52, 84, 91, 72]\n",
      "Maximum value in the list is: 91\n"
     ]
    }
   ],
   "source": [
    "# write a program to get the maximum of all numbers in a given list\n",
    "\n",
    "inp = input() # take input from user\n",
    "\n",
    "num_list = [] # creat a empty list\n",
    "\n",
    "# iterate over all the space separated numbers in string format\n",
    "\n",
    "# # using for loop\n",
    "# for num_str in inp.split(): \n",
    "#     num_list.append(int(num_str)) # store the numbers in the list in integer format\n",
    "\n",
    "# map method\n",
    "# num_list = list(map(int, inp.split()))\n",
    "\n",
    "# # list comprehension\n",
    "num_list = [int(x) for x in inp.split()]\n",
    "\n",
    "\n",
    "\n",
    "print(num_list)\n",
    "\n",
    "# calculate maximum of all the elements from list\n",
    "# using for loop\n",
    "# max_value = num_list[0]\n",
    "# for i in num_list:\n",
    "#     if i > max_value:\n",
    "#         max_value = i\n",
    "\n",
    "# while loop\n",
    "i = 0\n",
    "max_value = num_list[0]\n",
    "while i < len(num_list):\n",
    "    if num_list[i] > max_value:\n",
    "        max_value = num_list[i]\n",
    "    i+=1\n",
    "    \n",
    "# using python's inbuilt method\n",
    "# max_value = max(num_list)\n",
    "\n",
    "print(f\"Maximum value in the list is: {max_value}\")"
   ]
  },
  {
   "cell_type": "code",
   "execution_count": null,
   "metadata": {},
   "outputs": [],
   "source": [
    "12,35,83,65,2,7,52,84,91,72"
   ]
  },
  {
   "cell_type": "code",
   "execution_count": 318,
   "metadata": {},
   "outputs": [
    {
     "name": "stdout",
     "output_type": "stream",
     "text": [
      "sum of all the numbers in the list is:503\n"
     ]
    }
   ],
   "source": [
    "# Write a python program to implement a sum function\n",
    "\n",
    "inp = input() # take input from user\n",
    "\n",
    "sum_int = 0\n",
    "num_list = [ int(x) for x in inp.split(',')]\n",
    "\n",
    "for x in num_list:\n",
    "    sum_int += x\n",
    "\n",
    "print(f\"sum of all the numbers in the list is:{sum_int}\")\n"
   ]
  },
  {
   "cell_type": "code",
   "execution_count": 323,
   "metadata": {},
   "outputs": [
    {
     "name": "stdout",
     "output_type": "stream",
     "text": [
      "[2, 7, 12, 35, 52, 65, 72, 83, 84, 91]\n"
     ]
    }
   ],
   "source": [
    "# sorting of a list of numbers\n",
    "\n",
    "# Bubble sort\n",
    "\n",
    "inp = input() # take input from user\n",
    "\n",
    "sum_int = 0\n",
    "num_list = [ int(x) for x in inp.split(',')]\n",
    "\n",
    "\n",
    "for i in range(len(num_list)):\n",
    "    pass_occured = False\n",
    "    for j in range(len(num_list)-1):\n",
    "        if num_list[j] > num_list[j+1]:\n",
    "            temp = num_list[j]\n",
    "            num_list[j] = num_list[j+1]\n",
    "            num_list[j+1] = temp\n",
    "            pass_occured = True\n",
    "    if not pass_occured:\n",
    "        break\n",
    "\n",
    "print(num_list)\n",
    "\n"
   ]
  },
  {
   "cell_type": "code",
   "execution_count": null,
   "metadata": {},
   "outputs": [],
   "source": [
    "# Function\n",
    "\n",
    "def function_name(<optional>, <positional args>, <keyword arguments>):\n",
    "    # statement 1\n",
    "    # statement 2\n",
    "    # statement 3\n",
    "    #  .\n",
    "    #  .\n",
    "    #  .\n",
    "    return statement<optional>\n",
    "\n",
    "# Function after 3.5\n",
    "\n",
    "def function_name(<optional>, <positional args>, <keyword arguments>) -> int:\n",
    "    # statement 1\n",
    "    # statement 2\n",
    "    # statement 3\n",
    "    #  .\n",
    "    #  .\n",
    "    #  .\n",
    "    return statement<optional>\n",
    "\n",
    "# Function\n",
    "\n",
    "def function_name(<optional>, <positional args> : <datatype>, <keyword arguments>):\n",
    "    # statement 1\n",
    "    # statement 2\n",
    "    # statement 3\n",
    "    #  .\n",
    "    #  .\n",
    "    #  .\n",
    "    return statement<optional>"
   ]
  },
  {
   "cell_type": "code",
   "execution_count": 7,
   "metadata": {},
   "outputs": [
    {
     "name": "stdout",
     "output_type": "stream",
     "text": [
      "False\n",
      "True\n",
      "True\n",
      "False\n"
     ]
    }
   ],
   "source": [
    "# Function for finding out leap year\n",
    "\n",
    "def find_leap_year(year:int) -> bool:\n",
    "    if year%4 == 0:\n",
    "        if year%100 ==0:\n",
    "            if year%400 ==0:\n",
    "                return True\n",
    "            return False\n",
    "        return True\n",
    "    return False\n",
    "    \n",
    "print(find_leap_year(1700))\n",
    "print(find_leap_year(2000))\n",
    "print(find_leap_year(2024))\n",
    "print(find_leap_year(2100))"
   ]
  },
  {
   "cell_type": "code",
   "execution_count": 11,
   "metadata": {},
   "outputs": [
    {
     "name": "stdout",
     "output_type": "stream",
     "text": [
      "SAT\n"
     ]
    }
   ],
   "source": [
    "# Zeller's Congruence\n",
    "import math\n",
    "\n",
    "def zellers_congruence(q:int, m:int, year:int)->str:\n",
    "    \"\"\"\n",
    "    This function takes three values as input: day, month, year \n",
    "    and outputs the day of the week (SUN,MON,TUE,WED,THU,FRI,SAT)\n",
    "    \n",
    "    Args:\n",
    "        q (int): day of the month. value ranges between(1-31)\n",
    "        m (int): month number. value ranges between(1-12)\n",
    "        year (int): year number.\n",
    "    Returns:\n",
    "        str : The day of the week\n",
    "    \"\"\"\n",
    "    if m<3:\n",
    "        m= m+12\n",
    "        year = year-1\n",
    "    K = year%100\n",
    "    J = math.floor(year/100)\n",
    "\n",
    "    h = (q + ((13*(m+1))//5) + K + (K//4) + (J//4) - (2*J))%7\n",
    "\n",
    "    day_of_week = [\"SAT\", \"SUN\", \"MON\", \"TUE\", \"WED\", \"THU\", \"FRI\"]\n",
    "\n",
    "    return day_of_week[h]\n",
    "\n",
    "print(zellers_congruence(1,2,2025))"
   ]
  },
  {
   "cell_type": "code",
   "execution_count": null,
   "metadata": {},
   "outputs": [],
   "source": [
    "# I am running a script which opens a file and writes some lines to that file\n",
    "# and after that it closes the file and program ends."
   ]
  },
  {
   "cell_type": "markdown",
   "metadata": {},
   "source": [
    "## Python generator"
   ]
  },
  {
   "cell_type": "code",
   "execution_count": 2,
   "metadata": {},
   "outputs": [
    {
     "name": "stdout",
     "output_type": "stream",
     "text": [
      "0\n",
      "1\n",
      "4\n",
      "9\n",
      "16\n",
      "25\n",
      "36\n",
      "49\n",
      "64\n",
      "81\n"
     ]
    }
   ],
   "source": [
    "n =10\n",
    "for i in range(n):\n",
    "    print(i*i)"
   ]
  },
  {
   "cell_type": "code",
   "execution_count": 10,
   "metadata": {},
   "outputs": [],
   "source": [
    "def gen_squares(n):\n",
    "\n",
    "    # initialize counter\n",
    "    value = 0\n",
    "\n",
    "    # loop until counter is less than n\n",
    "    while value < n:\n",
    "\n",
    "        # produce the current value of the counter\n",
    "        yield value*value\n",
    "\n",
    "        # increment the counter\n",
    "        value += 1"
   ]
  },
  {
   "cell_type": "code",
   "execution_count": 12,
   "metadata": {},
   "outputs": [
    {
     "name": "stdout",
     "output_type": "stream",
     "text": [
      "0\n",
      "1\n",
      "4\n",
      "9\n",
      "16\n",
      "25\n",
      "36\n",
      "49\n",
      "64\n",
      "81\n",
      "100\n",
      "121\n",
      "144\n",
      "169\n",
      "196\n",
      "225\n",
      "256\n",
      "289\n",
      "324\n",
      "361\n",
      "400\n",
      "441\n",
      "484\n",
      "529\n",
      "576\n",
      "625\n",
      "676\n",
      "729\n",
      "784\n",
      "841\n",
      "900\n",
      "961\n",
      "1024\n",
      "1089\n",
      "1156\n",
      "1225\n",
      "1296\n",
      "1369\n",
      "1444\n",
      "1521\n",
      "1600\n",
      "1681\n",
      "1764\n",
      "1849\n",
      "1936\n",
      "2025\n",
      "2116\n",
      "2209\n",
      "2304\n",
      "2401\n",
      "2500\n",
      "2601\n",
      "2704\n",
      "2809\n",
      "2916\n",
      "3025\n",
      "3136\n",
      "3249\n",
      "3364\n",
      "3481\n",
      "3600\n",
      "3721\n",
      "3844\n",
      "3969\n",
      "4096\n",
      "4225\n",
      "4356\n",
      "4489\n",
      "4624\n",
      "4761\n",
      "4900\n",
      "5041\n",
      "5184\n",
      "5329\n",
      "5476\n",
      "5625\n",
      "5776\n",
      "5929\n",
      "6084\n",
      "6241\n",
      "6400\n",
      "6561\n",
      "6724\n",
      "6889\n",
      "7056\n",
      "7225\n",
      "7396\n",
      "7569\n",
      "7744\n",
      "7921\n",
      "8100\n",
      "8281\n",
      "8464\n",
      "8649\n",
      "8836\n",
      "9025\n",
      "9216\n",
      "9409\n",
      "9604\n",
      "9801\n"
     ]
    }
   ],
   "source": [
    "n = 100\n",
    "\n",
    "# iterate over the generator object produced by my_generator\n",
    "for value in gen_squares(n):\n",
    "\n",
    "    # print each value produced by generator\n",
    "    print(value)"
   ]
  },
  {
   "cell_type": "code",
   "execution_count": 19,
   "metadata": {},
   "outputs": [
    {
     "name": "stdout",
     "output_type": "stream",
     "text": [
      "hello world\n"
     ]
    }
   ],
   "source": [
    "# context manager (with)\n",
    "\n",
    "with open('test_file.txt', 'r') as f:\n",
    "    out = f.read()\n",
    "    print(out)"
   ]
  },
  {
   "cell_type": "code",
   "execution_count": 20,
   "metadata": {},
   "outputs": [
    {
     "name": "stdout",
     "output_type": "stream",
     "text": [
      "3\n",
      "6\n"
     ]
    }
   ],
   "source": [
    "# write a program to filter out all the negative numbers in the list and provide it's position in the list\n",
    "\n",
    "inp_list = [82,7,392,-8,0,83,-73, 823,65]\n",
    "\n",
    "i = 0\n",
    "\n",
    "for ele in inp_list:\n",
    "    if ele<0:\n",
    "        print(i)\n",
    "    i+=1"
   ]
  },
  {
   "cell_type": "code",
   "execution_count": 21,
   "metadata": {},
   "outputs": [
    {
     "name": "stdout",
     "output_type": "stream",
     "text": [
      "3\n",
      "6\n"
     ]
    }
   ],
   "source": [
    "for i,ele in enumerate(inp_list):\n",
    "    if ele<0:\n",
    "        print(i)"
   ]
  },
  {
   "cell_type": "code",
   "execution_count": 22,
   "metadata": {},
   "outputs": [
    {
     "name": "stdout",
     "output_type": "stream",
     "text": [
      "[[123, 'student1'], [456, 'student2'], [789, 'student3']]\n"
     ]
    }
   ],
   "source": [
    "student_id = [123, 456, 789]\n",
    "student_name = ['student1', 'student2', 'student3']\n",
    "\n",
    "student_map = []\n",
    "for i in range(len(student_id)):\n",
    "    student_map.append([student_id[i], student_name[i]])\n",
    "\n",
    "print(student_map)"
   ]
  },
  {
   "cell_type": "code",
   "execution_count": 26,
   "metadata": {},
   "outputs": [
    {
     "name": "stdout",
     "output_type": "stream",
     "text": [
      "[[123, 'student1'], [456, 'student2'], [789, 'student3']]\n"
     ]
    }
   ],
   "source": [
    "student_map1 = zip(student_id, student_name)\n",
    "\n",
    "# for z_ele in student_map1:\n",
    "#     print(z_ele)\n",
    "\n",
    "print(list(student_map))"
   ]
  },
  {
   "cell_type": "code",
   "execution_count": 27,
   "metadata": {},
   "outputs": [
    {
     "name": "stdout",
     "output_type": "stream",
     "text": [
      "(123, 'student1') (456, 'student2') (789, 'student3')\n"
     ]
    }
   ],
   "source": [
    "print(*student_map1)"
   ]
  },
  {
   "cell_type": "code",
   "execution_count": 31,
   "metadata": {},
   "outputs": [
    {
     "name": "stdout",
     "output_type": "stream",
     "text": [
      "[(123, 'student1', 'add1'), (456, 'student2', 'add2'), (789, 'student3', 'add3')]\n"
     ]
    }
   ],
   "source": [
    "student_add = ['add1', 'add2', 'add3']\n",
    "\n",
    "student_map2 = zip(student_id, student_name, student_add)\n",
    "\n",
    "print(list(student_map2))"
   ]
  },
  {
   "cell_type": "code",
   "execution_count": 32,
   "metadata": {},
   "outputs": [
    {
     "data": {
      "text/plain": [
       "789"
      ]
     },
     "execution_count": 32,
     "metadata": {},
     "output_type": "execute_result"
    }
   ],
   "source": [
    "student_id.pop()"
   ]
  },
  {
   "cell_type": "code",
   "execution_count": 37,
   "metadata": {},
   "outputs": [
    {
     "ename": "ValueError",
     "evalue": "zip() argument 2 is longer than argument 1",
     "output_type": "error",
     "traceback": [
      "\u001b[1;31m---------------------------------------------------------------------------\u001b[0m",
      "\u001b[1;31mValueError\u001b[0m                                Traceback (most recent call last)",
      "Cell \u001b[1;32mIn[37], line 2\u001b[0m\n\u001b[0;32m      1\u001b[0m student_map3 \u001b[38;5;241m=\u001b[39m \u001b[38;5;28mzip\u001b[39m(student_id, student_name, student_add, strict\u001b[38;5;241m=\u001b[39m\u001b[38;5;28;01mTrue\u001b[39;00m)\n\u001b[1;32m----> 2\u001b[0m \u001b[38;5;28mprint\u001b[39m(\u001b[38;5;28;43mlist\u001b[39;49m\u001b[43m(\u001b[49m\u001b[43mstudent_map3\u001b[49m\u001b[43m)\u001b[49m)\n",
      "\u001b[1;31mValueError\u001b[0m: zip() argument 2 is longer than argument 1"
     ]
    }
   ],
   "source": [
    "student_map3 = zip(student_id, student_name, student_add, strict=True)\n",
    "print(list(student_map3))"
   ]
  },
  {
   "cell_type": "code",
   "execution_count": 39,
   "metadata": {},
   "outputs": [],
   "source": [
    "empty_list = []\n",
    "\n",
    "if empty_list:\n",
    "    print(\"list is not empty\")"
   ]
  },
  {
   "cell_type": "code",
   "execution_count": 40,
   "metadata": {},
   "outputs": [
    {
     "name": "stdout",
     "output_type": "stream",
     "text": [
      "43 is in list\n"
     ]
    }
   ],
   "source": [
    "non_empty_list = ['d', 43, 98]\n",
    "\n",
    "if 43 in non_empty_list:\n",
    "    print(\"43 is in list\")\n",
    "else:\n",
    "    print(\"43 is not in the list\")"
   ]
  },
  {
   "cell_type": "code",
   "execution_count": 49,
   "metadata": {},
   "outputs": [
    {
     "ename": "ValueError",
     "evalue": "invalid literal for int() with base 10: 'ksiw'",
     "output_type": "error",
     "traceback": [
      "\u001b[1;31m---------------------------------------------------------------------------\u001b[0m",
      "\u001b[1;31mValueError\u001b[0m                                Traceback (most recent call last)",
      "Cell \u001b[1;32mIn[49], line 4\u001b[0m\n\u001b[0;32m      1\u001b[0m \u001b[38;5;66;03m# program to divide two numbers\u001b[39;00m\n\u001b[0;32m      3\u001b[0m n1 \u001b[38;5;241m=\u001b[39m \u001b[38;5;28mint\u001b[39m(\u001b[38;5;28minput\u001b[39m())\n\u001b[1;32m----> 4\u001b[0m n2 \u001b[38;5;241m=\u001b[39m \u001b[38;5;28;43mint\u001b[39;49m\u001b[43m(\u001b[49m\u001b[38;5;28;43minput\u001b[39;49m\u001b[43m(\u001b[49m\u001b[43m)\u001b[49m\u001b[43m)\u001b[49m\n\u001b[0;32m      5\u001b[0m \u001b[38;5;28;01mif\u001b[39;00m n2 \u001b[38;5;241m!=\u001b[39m \u001b[38;5;241m0\u001b[39m:\n\u001b[0;32m      6\u001b[0m     \u001b[38;5;28mprint\u001b[39m(n1\u001b[38;5;241m/\u001b[39mn2)\n",
      "\u001b[1;31mValueError\u001b[0m: invalid literal for int() with base 10: 'ksiw'"
     ]
    }
   ],
   "source": [
    "# program to divide two numbers\n",
    "\n",
    "n1 = int(input())\n",
    "n2 = int(input())\n",
    "if n2 != 0:\n",
    "    print(n1/n2)\n",
    "else:\n",
    "    print(\"Number cannot be divided by 0\")"
   ]
  },
  {
   "cell_type": "code",
   "execution_count": 55,
   "metadata": {},
   "outputs": [
    {
     "name": "stdout",
     "output_type": "stream",
     "text": [
      "3.0\n",
      "No error occured\n",
      "The program has ended\n"
     ]
    }
   ],
   "source": [
    "# program to divide two numbers\n",
    "\n",
    "try:\n",
    "    n1 = int(input())\n",
    "    n2 = int(input())\n",
    "    print(n1/n2)\n",
    "except ZeroDivisionError as e:\n",
    "    print(\"Error occurred while dividing by zero\")\n",
    "except ValueError as e:\n",
    "    print(\"Invalid value provided as input\")\n",
    "except Exception as e:\n",
    "    print(\"Unknown error occurred\")\n",
    "else:\n",
    "    print(\"No error occured\")\n",
    "finally:\n",
    "    print(\"The program has ended\")"
   ]
  },
  {
   "cell_type": "code",
   "execution_count": 56,
   "metadata": {},
   "outputs": [
    {
     "data": {
      "text/plain": [
       "4.0"
      ]
     },
     "execution_count": 56,
     "metadata": {},
     "output_type": "execute_result"
    }
   ],
   "source": [
    "# positional arguments\n",
    "def func_divide(a,b):\n",
    "    return a/b\n",
    "\n",
    "func_divide(12,3)"
   ]
  },
  {
   "cell_type": "code",
   "execution_count": 57,
   "metadata": {},
   "outputs": [
    {
     "data": {
      "text/plain": [
       "0.25"
      ]
     },
     "execution_count": 57,
     "metadata": {},
     "output_type": "execute_result"
    }
   ],
   "source": [
    "# key word arguments\n",
    "def func_divide(a,b):\n",
    "    return a/b\n",
    "\n",
    "func_divide(b=12,a=3)"
   ]
  },
  {
   "cell_type": "code",
   "execution_count": 59,
   "metadata": {},
   "outputs": [
    {
     "data": {
      "text/plain": [
       "6.0"
      ]
     },
     "execution_count": 59,
     "metadata": {},
     "output_type": "execute_result"
    }
   ],
   "source": [
    "# default arguments\n",
    "def func_divide_half(a,b=2):\n",
    "    return a/b\n",
    "\n",
    "func_divide_half(12)"
   ]
  },
  {
   "cell_type": "code",
   "execution_count": 60,
   "metadata": {},
   "outputs": [
    {
     "data": {
      "text/plain": [
       "4.0"
      ]
     },
     "execution_count": 60,
     "metadata": {},
     "output_type": "execute_result"
    }
   ],
   "source": [
    "func_divide_half(12, 3)"
   ]
  },
  {
   "cell_type": "code",
   "execution_count": 62,
   "metadata": {},
   "outputs": [
    {
     "data": {
      "text/plain": [
       "61"
      ]
     },
     "execution_count": 62,
     "metadata": {},
     "output_type": "execute_result"
    }
   ],
   "source": [
    "# arbitary arguments\n",
    "def sum_of_all(*args):\n",
    "    s = 0\n",
    "    for i in args:\n",
    "        s+=i\n",
    "    return s\n",
    "\n",
    "sum_of_all(1,2,3,4,45,6)"
   ]
  },
  {
   "cell_type": "code",
   "execution_count": 65,
   "metadata": {},
   "outputs": [
    {
     "data": {
      "text/plain": [
       "6"
      ]
     },
     "execution_count": 65,
     "metadata": {},
     "output_type": "execute_result"
    }
   ],
   "source": [
    "# arbitary keywords arguments\n",
    "def sum_of_all_vowels(**kwargs):\n",
    "    s = 0\n",
    "    for key, value in kwargs.items():\n",
    "        if key in 'aeiou':\n",
    "            s+=value\n",
    "    return s\n",
    "\n",
    "sum_of_all_vowels(a=1, b= 3, c=4, e = 5, d = 8)"
   ]
  },
  {
   "cell_type": "code",
   "execution_count": 2,
   "metadata": {},
   "outputs": [],
   "source": [
    "def my_decorator(func):\n",
    "    \"\"\"A simple decorator that prints a message before and after the decorated function.\"\"\"\n",
    "    def wrapper(*args, **kwargs):\n",
    "        print(\"Something is happening before the function is called.\")\n",
    "        result = func(*args, **kwargs)  # Call the original function\n",
    "        print(\"Something is happening after the function is called.\")\n",
    "        return result\n",
    "    return wrapper\n",
    "\n",
    "@my_decorator\n",
    "def say_hello(name):\n",
    "    \"\"\"A simple function to say hello.\"\"\"\n",
    "    print(f\"Hello, {name}!\")\n",
    "    return f\"Hello, {name}!\"\n",
    "\n",
    "@my_decorator\n",
    "def add_numbers(a, b):\n",
    "    \"\"\"A function to add two numbers.\"\"\"\n",
    "    result = a + b\n",
    "    print(f\"{a} + {b} = {result}\")\n",
    "    return result\n",
    "\n"
   ]
  },
  {
   "cell_type": "code",
   "execution_count": 4,
   "metadata": {},
   "outputs": [
    {
     "name": "stdout",
     "output_type": "stream",
     "text": [
      "Something is happening before the function is called.\n",
      "5 + 3 = 8\n",
      "Something is happening after the function is called.\n"
     ]
    },
    {
     "data": {
      "text/plain": [
       "8"
      ]
     },
     "execution_count": 4,
     "metadata": {},
     "output_type": "execute_result"
    }
   ],
   "source": [
    "# Using the decorated functions\n",
    "# say_hello(\"Alice\")\n",
    "add_numbers(5, 3)"
   ]
  },
  {
   "cell_type": "code",
   "execution_count": 9,
   "metadata": {},
   "outputs": [],
   "source": [
    "from abc import ABC, abstractmethod\n",
    "\n",
    "class Shape(ABC):  # Shape is an abstract base class\n",
    "    \"\"\"\n",
    "    An abstract base class for shapes.\n",
    "    \"\"\"\n",
    "\n",
    "    @abstractmethod\n",
    "    def area(self):\n",
    "        \"\"\"\n",
    "        Abstract method to calculate the area of a shape.\n",
    "        Must be implemented by concrete subclasses.\n",
    "        \"\"\"\n",
    "        pass\n",
    "\n",
    "    @abstractmethod\n",
    "    def perimeter(self):\n",
    "        \"\"\"\n",
    "        Abstract method to calculate the perimeter of a shape.\n",
    "        Must be implemented by concrete subclasses.\n",
    "        \"\"\"\n",
    "        pass\n",
    "\n",
    "    def description(self):\n",
    "        \"\"\"\n",
    "        A concrete method that provides a general description.\n",
    "        \"\"\"\n",
    "        return \"This is a shape.\"\n",
    "\n",
    "class Circle(Shape):  # Circle is a concrete subclass of Shape\n",
    "    \"\"\"\n",
    "    Represents a circle.\n",
    "    \"\"\"\n",
    "\n",
    "    def __init__(self, radius):\n",
    "        self.radius = radius\n",
    "\n",
    "    def area(self):\n",
    "        return 3.14159 * self.radius * self.radius\n",
    "\n",
    "    def perimeter(self):\n",
    "        return 2 * 3.14159 * self.radius\n",
    "\n",
    "    def description(self):\n",
    "        return f\"This is a circle with radius {self.radius}.\"\n",
    "\n",
    "class Rectangle(Shape):  # Rectangle is a concrete subclass of Shape\n",
    "    \"\"\"\n",
    "    Represents a rectangle.\n",
    "    \"\"\"\n",
    "\n",
    "    def __init__(self, width, height):\n",
    "        self.width = width\n",
    "        self.height = height\n",
    "\n",
    "    def area(self):\n",
    "        return self.width * self.height\n",
    "\n",
    "    def perimeter(self):\n",
    "        return 2 * (self.width + self.height)\n",
    "\n",
    "    def description(self):\n",
    "        return f\"This is a rectangle with width {self.width} and height {self.height}.\"\n",
    "\n",
    "\n",
    "\n"
   ]
  },
  {
   "cell_type": "code",
   "execution_count": 10,
   "metadata": {},
   "outputs": [
    {
     "name": "stdout",
     "output_type": "stream",
     "text": [
      "This is a circle with radius 5.\n",
      "Circle area: 78.53975\n",
      "Circle perimeter: 31.4159\n",
      "--------------------\n",
      "This is a shape.\n",
      "Rectangle area: 24\n",
      "Rectangle perimeter: 20\n"
     ]
    }
   ],
   "source": [
    "# Usage\n",
    "circle = Circle(5)\n",
    "rectangle = Rectangle(4, 6)\n",
    "\n",
    "print(circle.description())\n",
    "print(f\"Circle area: {circle.area()}\")\n",
    "print(f\"Circle perimeter: {circle.perimeter()}\")\n",
    "\n",
    "print(\"-\" * 20)\n",
    "\n",
    "print(rectangle.description())\n",
    "print(f\"Rectangle area: {rectangle.area()}\")\n",
    "print(f\"Rectangle perimeter: {rectangle.perimeter()}\")"
   ]
  },
  {
   "cell_type": "code",
   "execution_count": 7,
   "metadata": {},
   "outputs": [
    {
     "ename": "TypeError",
     "evalue": "Can't instantiate abstract class Shape without an implementation for abstract methods 'area', 'perimeter'",
     "output_type": "error",
     "traceback": [
      "\u001b[1;31m---------------------------------------------------------------------------\u001b[0m",
      "\u001b[1;31mTypeError\u001b[0m                                 Traceback (most recent call last)",
      "Cell \u001b[1;32mIn[7], line 1\u001b[0m\n\u001b[1;32m----> 1\u001b[0m shape \u001b[38;5;241m=\u001b[39m \u001b[43mShape\u001b[49m\u001b[43m(\u001b[49m\u001b[43m)\u001b[49m\n",
      "\u001b[1;31mTypeError\u001b[0m: Can't instantiate abstract class Shape without an implementation for abstract methods 'area', 'perimeter'"
     ]
    }
   ],
   "source": [
    "shape = Shape()"
   ]
  },
  {
   "cell_type": "code",
   "execution_count": 8,
   "metadata": {},
   "outputs": [
    {
     "name": "stdout",
     "output_type": "stream",
     "text": [
      "--------------------\n",
      "This is a circle with radius 5.\n",
      "Area: 78.53975\n",
      "Perimeter: 31.4159\n",
      "--------------------\n",
      "This is a rectangle with width 4 and height 6.\n",
      "Area: 24\n",
      "Perimeter: 20\n"
     ]
    }
   ],
   "source": [
    "#Example of using a function that depends on the abstraction.\n",
    "def print_shape_info(shape_object):\n",
    "    print(shape_object.description())\n",
    "    print(f\"Area: {shape_object.area()}\")\n",
    "    print(f\"Perimeter: {shape_object.perimeter()}\")\n",
    "\n",
    "print(\"-\" * 20)\n",
    "\n",
    "print_shape_info(circle)\n",
    "print(\"-\" * 20)\n",
    "print_shape_info(rectangle)"
   ]
  },
  {
   "cell_type": "markdown",
   "metadata": {},
   "source": [
    "# This is a sample addition to this file."
   ]
  },
  {
   "cell_type": "markdown",
   "metadata": {},
   "source": []
  }
 ],
 "metadata": {
  "kernelspec": {
   "display_name": "Python 3",
   "language": "python",
   "name": "python3"
  },
  "language_info": {
   "codemirror_mode": {
    "name": "ipython",
    "version": 3
   },
   "file_extension": ".py",
   "mimetype": "text/x-python",
   "name": "python",
   "nbconvert_exporter": "python",
   "pygments_lexer": "ipython3",
   "version": "3.13.2"
  }
 },
 "nbformat": 4,
 "nbformat_minor": 2
}
