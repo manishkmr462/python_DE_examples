{
 "cells": [
  {
   "cell_type": "code",
   "execution_count": 7,
   "metadata": {},
   "outputs": [
    {
     "name": "stdout",
     "output_type": "stream",
     "text": [
      "15\n",
      "input is not of type list\n"
     ]
    }
   ],
   "source": [
    "# function to accept list of numbers and return sum of all the elements in the list\n",
    "\n",
    "def sum_of_all_nums(list_of_nums):\n",
    "    if type(list_of_nums) is not list:\n",
    "        return \"input is not of type list\"\n",
    "    if len(list_of_nums) == 0:\n",
    "        return \"no elements in the list\"\n",
    "    s = 0\n",
    "    for num in list_of_nums:\n",
    "        s = s + num\n",
    "    return s\n",
    "\n",
    "print(sum_of_all_nums([1,2,3,4,5]))\n",
    "print(sum_of_all_nums(\"This is a string\"))"
   ]
  },
  {
   "cell_type": "code",
   "execution_count": 9,
   "metadata": {},
   "outputs": [
    {
     "data": {
      "text/plain": [
       "'this is a string'"
      ]
     },
     "execution_count": 9,
     "metadata": {},
     "output_type": "execute_result"
    }
   ],
   "source": [
    "Str1 = \"This is a string\"\n",
    "\n",
    "Str1.lower()"
   ]
  },
  {
   "cell_type": "code",
   "execution_count": 10,
   "metadata": {},
   "outputs": [
    {
     "name": "stdout",
     "output_type": "stream",
     "text": [
      "[2, 1]\n"
     ]
    }
   ],
   "source": [
    "# function to swap values in a list having two elements\n",
    "list_num = [1,2]\n",
    "\n",
    "def swap_values():\n",
    "    temp = list_num[0]\n",
    "    list_num[0] = list_num[1]\n",
    "    list_num[1] = temp\n",
    "\n",
    "swap_values()\n",
    "\n",
    "print(list_num)"
   ]
  },
  {
   "cell_type": "code",
   "execution_count": 14,
   "metadata": {},
   "outputs": [
    {
     "name": "stdout",
     "output_type": "stream",
     "text": [
      "(1, 2)\n",
      "(2, 3)\n",
      "(3, 4)\n",
      "(4, 5)\n",
      "(5, 6)\n",
      "(6, 7)\n",
      "(7, 8)\n",
      "(8, 9)\n",
      "(9, 10)\n"
     ]
    }
   ],
   "source": [
    "def first_n_numbers():\n",
    "    for i in range(1,100000000):\n",
    "        yield (i,i+1) # this takes less memory\n",
    "        # print((i, i+1)) # this takes more memory\n",
    "\n",
    "for x in first_n_numbers():\n",
    "    print(x)"
   ]
  },
  {
   "cell_type": "code",
   "execution_count": 18,
   "metadata": {},
   "outputs": [
    {
     "name": "stdout",
     "output_type": "stream",
     "text": [
      "                                  2025\n",
      "\n",
      "      January                   February                   March\n",
      "Sa Su Mo Tu We Th Fr      Sa Su Mo Tu We Th Fr      Sa Su Mo Tu We Th Fr\n",
      "             1  2  3       1  2  3  4  5  6  7       1  2  3  4  5  6  7\n",
      " 4  5  6  7  8  9 10       8  9 10 11 12 13 14       8  9 10 11 12 13 14\n",
      "11 12 13 14 15 16 17      15 16 17 18 19 20 21      15 16 17 18 19 20 21\n",
      "18 19 20 21 22 23 24      22 23 24 25 26 27 28      22 23 24 25 26 27 28\n",
      "25 26 27 28 29 30 31                                29 30 31\n",
      "\n",
      "       April                      May                       June\n",
      "Sa Su Mo Tu We Th Fr      Sa Su Mo Tu We Th Fr      Sa Su Mo Tu We Th Fr\n",
      "          1  2  3  4                      1  2          1  2  3  4  5  6\n",
      " 5  6  7  8  9 10 11       3  4  5  6  7  8  9       7  8  9 10 11 12 13\n",
      "12 13 14 15 16 17 18      10 11 12 13 14 15 16      14 15 16 17 18 19 20\n",
      "19 20 21 22 23 24 25      17 18 19 20 21 22 23      21 22 23 24 25 26 27\n",
      "26 27 28 29 30            24 25 26 27 28 29 30      28 29 30\n",
      "                          31\n",
      "\n",
      "        July                     August                  September\n",
      "Sa Su Mo Tu We Th Fr      Sa Su Mo Tu We Th Fr      Sa Su Mo Tu We Th Fr\n",
      "          1  2  3  4                         1             1  2  3  4  5\n",
      " 5  6  7  8  9 10 11       2  3  4  5  6  7  8       6  7  8  9 10 11 12\n",
      "12 13 14 15 16 17 18       9 10 11 12 13 14 15      13 14 15 16 17 18 19\n",
      "19 20 21 22 23 24 25      16 17 18 19 20 21 22      20 21 22 23 24 25 26\n",
      "26 27 28 29 30 31         23 24 25 26 27 28 29      27 28 29 30\n",
      "                          30 31\n",
      "\n",
      "      October                   November                  December\n",
      "Sa Su Mo Tu We Th Fr      Sa Su Mo Tu We Th Fr      Sa Su Mo Tu We Th Fr\n",
      "             1  2  3       1  2  3  4  5  6  7             1  2  3  4  5\n",
      " 4  5  6  7  8  9 10       8  9 10 11 12 13 14       6  7  8  9 10 11 12\n",
      "11 12 13 14 15 16 17      15 16 17 18 19 20 21      13 14 15 16 17 18 19\n",
      "18 19 20 21 22 23 24      22 23 24 25 26 27 28      20 21 22 23 24 25 26\n",
      "25 26 27 28 29 30 31      29 30                     27 28 29 30 31\n",
      "\n"
     ]
    }
   ],
   "source": [
    "import calendar\n",
    "print(calendar.TextCalendar(firstweekday=5).formatyear(2025))"
   ]
  },
  {
   "cell_type": "code",
   "execution_count": 19,
   "metadata": {},
   "outputs": [
    {
     "name": "stdout",
     "output_type": "stream",
     "text": [
      "2025-03-29 16:36:02.399737\n"
     ]
    }
   ],
   "source": [
    "import datetime\n",
    "\n",
    "print(datetime.datetime.now())\n"
   ]
  },
  {
   "cell_type": "code",
   "execution_count": 20,
   "metadata": {},
   "outputs": [
    {
     "data": {
      "text/plain": [
       "calendar.HTMLCalendar"
      ]
     },
     "execution_count": 20,
     "metadata": {},
     "output_type": "execute_result"
    }
   ],
   "source": [
    "calendar.HTMLCalendar."
   ]
  },
  {
   "cell_type": "code",
   "execution_count": 21,
   "metadata": {},
   "outputs": [],
   "source": [
    "import array as arr\n",
    "a = arr.array('i', [1, 2, 3])"
   ]
  },
  {
   "cell_type": "code",
   "execution_count": 24,
   "metadata": {},
   "outputs": [],
   "source": [
    "a.append(12)"
   ]
  },
  {
   "cell_type": "code",
   "execution_count": 25,
   "metadata": {},
   "outputs": [
    {
     "data": {
      "text/plain": [
       "array('i', [1, 2, 3, 12])"
      ]
     },
     "execution_count": 25,
     "metadata": {},
     "output_type": "execute_result"
    }
   ],
   "source": [
    "a"
   ]
  },
  {
   "cell_type": "code",
   "execution_count": 26,
   "metadata": {},
   "outputs": [],
   "source": [
    "a2 = arr.array('L',[1,2,383728,923882])"
   ]
  },
  {
   "cell_type": "code",
   "execution_count": 27,
   "metadata": {},
   "outputs": [
    {
     "data": {
      "text/plain": [
       "array('L', [1, 2, 383728, 923882])"
      ]
     },
     "execution_count": 27,
     "metadata": {},
     "output_type": "execute_result"
    }
   ],
   "source": [
    "a2"
   ]
  },
  {
   "cell_type": "code",
   "execution_count": null,
   "metadata": {},
   "outputs": [],
   "source": [
    "a3 = arr.array()"
   ]
  },
  {
   "cell_type": "code",
   "execution_count": 28,
   "metadata": {},
   "outputs": [
    {
     "name": "stdout",
     "output_type": "stream",
     "text": [
      "Help on class array in module array:\n",
      "\n",
      "class array(builtins.object)\n",
      " |  array(typecode [, initializer]) -> array\n",
      " |\n",
      " |  Return a new array whose items are restricted by typecode, and\n",
      " |  initialized from the optional initializer value, which must be a list,\n",
      " |  string or iterable over elements of the appropriate type.\n",
      " |\n",
      " |  Arrays represent basic values and behave very much like lists, except\n",
      " |  the type of objects stored in them is constrained. The type is specified\n",
      " |  at object creation time by using a type code, which is a single character.\n",
      " |  The following type codes are defined:\n",
      " |\n",
      " |      Type code   C Type             Minimum size in bytes\n",
      " |      'b'         signed integer     1\n",
      " |      'B'         unsigned integer   1\n",
      " |      'u'         Unicode character  2 (see note)\n",
      " |      'h'         signed integer     2\n",
      " |      'H'         unsigned integer   2\n",
      " |      'i'         signed integer     2\n",
      " |      'I'         unsigned integer   2\n",
      " |      'l'         signed integer     4\n",
      " |      'L'         unsigned integer   4\n",
      " |      'q'         signed integer     8 (see note)\n",
      " |      'Q'         unsigned integer   8 (see note)\n",
      " |      'f'         floating-point     4\n",
      " |      'd'         floating-point     8\n",
      " |\n",
      " |  NOTE: The 'u' typecode corresponds to Python's unicode character. On\n",
      " |  narrow builds this is 2-bytes on wide builds this is 4-bytes.\n",
      " |\n",
      " |  NOTE: The 'q' and 'Q' type codes are only available if the platform\n",
      " |  C compiler used to build Python supports 'long long', or, on Windows,\n",
      " |  '__int64'.\n",
      " |\n",
      " |  Methods:\n",
      " |\n",
      " |  append() -- append a new item to the end of the array\n",
      " |  buffer_info() -- return information giving the current memory info\n",
      " |  byteswap() -- byteswap all the items of the array\n",
      " |  count() -- return number of occurrences of an object\n",
      " |  extend() -- extend array by appending multiple elements from an iterable\n",
      " |  fromfile() -- read items from a file object\n",
      " |  fromlist() -- append items from the list\n",
      " |  frombytes() -- append items from the string\n",
      " |  index() -- return index of first occurrence of an object\n",
      " |  insert() -- insert a new item into the array at a provided position\n",
      " |  pop() -- remove and return item (default last)\n",
      " |  remove() -- remove first occurrence of an object\n",
      " |  reverse() -- reverse the order of the items in the array\n",
      " |  tofile() -- write all items to a file object\n",
      " |  tolist() -- return the array converted to an ordinary list\n",
      " |  tobytes() -- return the array converted to a string\n",
      " |\n",
      " |  Attributes:\n",
      " |\n",
      " |  typecode -- the typecode character used to create the array\n",
      " |  itemsize -- the length in bytes of one array item\n",
      " |\n",
      " |  Methods defined here:\n",
      " |\n",
      " |  __add__(self, value, /)\n",
      " |      Return self+value.\n",
      " |\n",
      " |  __buffer__(self, flags, /)\n",
      " |      Return a buffer object that exposes the underlying memory of the object.\n",
      " |\n",
      " |  __contains__(self, key, /)\n",
      " |      Return bool(key in self).\n",
      " |\n",
      " |  __copy__(self, /)\n",
      " |      Return a copy of the array.\n",
      " |\n",
      " |  __deepcopy__(self, unused, /)\n",
      " |      Return a copy of the array.\n",
      " |\n",
      " |  __delitem__(self, key, /)\n",
      " |      Delete self[key].\n",
      " |\n",
      " |  __eq__(self, value, /)\n",
      " |      Return self==value.\n",
      " |\n",
      " |  __ge__(self, value, /)\n",
      " |      Return self>=value.\n",
      " |\n",
      " |  __getattribute__(self, name, /)\n",
      " |      Return getattr(self, name).\n",
      " |\n",
      " |  __getitem__(self, key, /)\n",
      " |      Return self[key].\n",
      " |\n",
      " |  __gt__(self, value, /)\n",
      " |      Return self>value.\n",
      " |\n",
      " |  __iadd__(self, value, /)\n",
      " |      Implement self+=value.\n",
      " |\n",
      " |  __imul__(self, value, /)\n",
      " |      Implement self*=value.\n",
      " |\n",
      " |  __iter__(self, /)\n",
      " |      Implement iter(self).\n",
      " |\n",
      " |  __le__(self, value, /)\n",
      " |      Return self<=value.\n",
      " |\n",
      " |  __len__(self, /)\n",
      " |      Return len(self).\n",
      " |\n",
      " |  __lt__(self, value, /)\n",
      " |      Return self<value.\n",
      " |\n",
      " |  __mul__(self, value, /)\n",
      " |      Return self*value.\n",
      " |\n",
      " |  __ne__(self, value, /)\n",
      " |      Return self!=value.\n",
      " |\n",
      " |  __reduce_ex__(self, value, /)\n",
      " |      Return state information for pickling.\n",
      " |\n",
      " |  __release_buffer__(self, buffer, /)\n",
      " |      Release the buffer object that exposes the underlying memory of the object.\n",
      " |\n",
      " |  __repr__(self, /)\n",
      " |      Return repr(self).\n",
      " |\n",
      " |  __rmul__(self, value, /)\n",
      " |      Return value*self.\n",
      " |\n",
      " |  __setitem__(self, key, value, /)\n",
      " |      Set self[key] to value.\n",
      " |\n",
      " |  __sizeof__(self, /)\n",
      " |      Size of the array in memory, in bytes.\n",
      " |\n",
      " |  append(self, v, /)\n",
      " |      Append new value v to the end of the array.\n",
      " |\n",
      " |  buffer_info(self, /)\n",
      " |      Return a tuple (address, length) giving the current memory address and the length in items of the buffer used to hold array's contents.\n",
      " |\n",
      " |      The length should be multiplied by the itemsize attribute to calculate\n",
      " |      the buffer length in bytes.\n",
      " |\n",
      " |  byteswap(self, /)\n",
      " |      Byteswap all items of the array.\n",
      " |\n",
      " |      If the items in the array are not 1, 2, 4, or 8 bytes in size, RuntimeError is\n",
      " |      raised.\n",
      " |\n",
      " |  clear(self, /)\n",
      " |      Remove all items from the array.\n",
      " |\n",
      " |  count(self, v, /)\n",
      " |      Return number of occurrences of v in the array.\n",
      " |\n",
      " |  extend(self, bb, /)\n",
      " |      Append items to the end of the array.\n",
      " |\n",
      " |  frombytes(self, buffer, /)\n",
      " |      Appends items from the string, interpreting it as an array of machine values, as if it had been read from a file using the fromfile() method.\n",
      " |\n",
      " |  fromfile(self, f, n, /)\n",
      " |      Read n objects from the file object f and append them to the end of the array.\n",
      " |\n",
      " |  fromlist(self, list, /)\n",
      " |      Append items to array from list.\n",
      " |\n",
      " |  fromunicode(self, ustr, /)\n",
      " |      Extends this array with data from the unicode string ustr.\n",
      " |\n",
      " |      The array must be a unicode type array; otherwise a ValueError is raised.\n",
      " |      Use array.frombytes(ustr.encode(...)) to append Unicode data to an array of\n",
      " |      some other type.\n",
      " |\n",
      " |  index(self, v, start=0, stop=9223372036854775807, /)\n",
      " |      Return index of first occurrence of v in the array.\n",
      " |\n",
      " |      Raise ValueError if the value is not present.\n",
      " |\n",
      " |  insert(self, i, v, /)\n",
      " |      Insert a new item v into the array before position i.\n",
      " |\n",
      " |  pop(self, i=-1, /)\n",
      " |      Return the i-th element and delete it from the array.\n",
      " |\n",
      " |      i defaults to -1.\n",
      " |\n",
      " |  remove(self, v, /)\n",
      " |      Remove the first occurrence of v in the array.\n",
      " |\n",
      " |  reverse(self, /)\n",
      " |      Reverse the order of the items in the array.\n",
      " |\n",
      " |  tobytes(self, /)\n",
      " |      Convert the array to an array of machine values and return the bytes representation.\n",
      " |\n",
      " |  tofile(self, f, /)\n",
      " |      Write all items (as machine values) to the file object f.\n",
      " |\n",
      " |  tolist(self, /)\n",
      " |      Convert array to an ordinary list with the same items.\n",
      " |\n",
      " |  tounicode(self, /)\n",
      " |      Extends this array with data from the unicode string ustr.\n",
      " |\n",
      " |      Convert the array to a unicode string.  The array must be a unicode type array;\n",
      " |      otherwise a ValueError is raised.  Use array.tobytes().decode() to obtain a\n",
      " |      unicode string from an array of some other type.\n",
      " |\n",
      " |  ----------------------------------------------------------------------\n",
      " |  Class methods defined here:\n",
      " |\n",
      " |  __class_getitem__(object, /)\n",
      " |      See PEP 585\n",
      " |\n",
      " |  ----------------------------------------------------------------------\n",
      " |  Static methods defined here:\n",
      " |\n",
      " |  __new__(*args, **kwargs)\n",
      " |      Create and return a new object.  See help(type) for accurate signature.\n",
      " |\n",
      " |  ----------------------------------------------------------------------\n",
      " |  Data descriptors defined here:\n",
      " |\n",
      " |  itemsize\n",
      " |      the size, in bytes, of one array item\n",
      " |\n",
      " |  typecode\n",
      " |      the typecode character used to create the array\n",
      " |\n",
      " |  ----------------------------------------------------------------------\n",
      " |  Data and other attributes defined here:\n",
      " |\n",
      " |  __hash__ = None\n",
      "\n"
     ]
    }
   ],
   "source": [
    "help(arr.array)"
   ]
  },
  {
   "cell_type": "code",
   "execution_count": null,
   "metadata": {},
   "outputs": [],
   "source": []
  },
  {
   "cell_type": "markdown",
   "metadata": {},
   "source": [
    "# PROJECTS"
   ]
  },
  {
   "cell_type": "markdown",
   "metadata": {},
   "source": [
    "Project 1: Interactive To-Do List Application\n",
    "\n",
    "Goal: Build a command-line or simple GUI (using Tkinter) to-do list application.\n",
    "Topics Covered:\n",
    "Variables and Data Types (strings, lists, dictionaries).\n",
    "Control Flow (if/else statements, loops).\n",
    "Functions (for adding, removing, and displaying tasks).\n",
    "File Handling (saving and loading tasks from a text or JSON file).\n",
    "User Input.\n",
    "(Optional) Basic GUI with Tkinter.\n",
    "Engagement:\n",
    "Students can personalize their to-do list with features like priority levels, due dates, and categories.\n",
    "They can learn to manage data persistently, making the application useful in their daily lives.\n",
    "Implementing a GUI gives the project a great visual element.\n",
    "Example Functionality:\n",
    "add_task(\"Buy groceries\", \"High\", \"2024-12-25\")\n",
    "remove_task(\"Buy groceries\")\n",
    "view_tasks()\n",
    "save_tasks(\"tasks.txt\")\n",
    "load_tasks(\"tasks.txt\")\n",
    "Project 2: Simple Text-Based Adventure Game\n",
    "\n",
    "Goal: Create a text-based adventure game where the player makes choices that affect the story.\n",
    "Topics Covered:\n",
    "Strings and String Manipulation.\n",
    "Lists and Dictionaries (for storing game data).\n",
    "Control Flow (if/elif/else, while loops).\n",
    "Functions (for game logic and story progression).\n",
    "User Input.\n",
    "Engagement:\n",
    "Students can unleash their creativity by designing their own stories, characters, and puzzles.\n",
    "The interactive nature of the game makes it a fun and engaging learning experience.\n",
    "They can add features like inventory systems, and combat.\n",
    "Example Structure:\n",
    "Functions for each room or scenario.\n",
    "Dictionaries to store player inventory and stats.\n",
    "Conditional statements to handle player choices and outcomes.\n",
    "Example code snippet.\n",
    "Python\n",
    "\n",
    "def start_room():\n",
    "    print(\"You wake up in a dark room. You see two doors. Do you go left or right?\")\n",
    "    choice = input(\"> \")\n",
    "    if choice.lower() == \"left\":\n",
    "        #go to left room function\n",
    "        left_room()\n",
    "    elif choice.lower() == \"right\":\n",
    "        #go to right room function\n",
    "        right_room()\n",
    "    else:\n",
    "        print(\"Invalid choice.\")\n",
    "        start_room()\n",
    "Project 3: Basic Data Analyzer for a CSV File\n",
    "\n",
    "Goal: Write a Python script to analyze data from a CSV (Comma Separated Values) file.\n",
    "Topics Covered:\n",
    "File Handling (reading CSV files).\n",
    "Lists and Dictionaries (for storing and processing data).\n",
    "Loops (for iterating through data).\n",
    "Functions (for performing calculations and generating reports).\n",
    "Basic data analysis.\n",
    "Engagement:\n",
    "Students can choose datasets that interest them (e.g., weather data, sports statistics, movie ratings).\n",
    "They can learn to extract meaningful insights from real-world data.\n",
    "They can use libraries like the csv library that python offers.\n",
    "Example Functionality:\n",
    "Calculate the average of a column.\n",
    "Find the maximum or minimum value in a column.\n",
    "Filter data based on certain criteria.\n",
    "Generate simple reports (e.g., summary statistics).\n",
    "Example code snippet.\n",
    "Python\n",
    "\n",
    "import csv\n",
    "\n",
    "def analyze_data(filename):\n",
    "    with open(filename, 'r') as file:\n",
    "        reader = csv.reader(file)\n",
    "        header = next(reader) #skip the header\n",
    "        data = list(reader)\n",
    "\n",
    "    #Example: calculate average of the second column\n",
    "    sum = 0\n",
    "    for row in data:\n",
    "        sum += float(row[1])\n",
    "    average = sum / len(data)\n",
    "    print(f\"The average of the second column is: {average}\")"
   ]
  },
  {
   "cell_type": "markdown",
   "metadata": {},
   "source": []
  }
 ],
 "metadata": {
  "kernelspec": {
   "display_name": "Python 3",
   "language": "python",
   "name": "python3"
  },
  "language_info": {
   "codemirror_mode": {
    "name": "ipython",
    "version": 3
   },
   "file_extension": ".py",
   "mimetype": "text/x-python",
   "name": "python",
   "nbconvert_exporter": "python",
   "pygments_lexer": "ipython3",
   "version": "3.13.2"
  }
 },
 "nbformat": 4,
 "nbformat_minor": 2
}
