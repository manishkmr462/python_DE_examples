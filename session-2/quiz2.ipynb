{
 "cells": [
  {
   "cell_type": "code",
   "execution_count": null,
   "metadata": {
    "vscode": {
     "languageId": "plaintext"
    }
   },
   "outputs": [],
   "source": [
    "\n",
    "\n",
    "\n",
    "\n",
    "\n",
    "\n",
    "\n",
    "\n",
    "\n",
    "\n",
    "\n",
    "\n",
    "\n",
    "\n",
    "\n",
    "\n",
    "\n",
    "\n",
    "\n",
    "\n",
    "\n",
    "\n",
    "\n",
    "\n",
    "\n",
    "\n",
    "\n",
    "\n",
    "\n",
    "\n",
    "\n",
    "\n",
    "\n",
    "\n",
    "\n",
    "\n"
   ]
  },
  {
   "cell_type": "markdown",
   "metadata": {},
   "source": [
    "\n",
    "1.  What is the primary difference between a Python module and a Python package?  \n",
    "    a) A module is a single file, while a package is a directory containing multiple modules.  \n",
    "    b) A package is a single file, while a module is a directory containing multiple packages.  \n",
    "    c) There is no difference; they are interchangeable terms.  \n",
    "    d) Modules are used for data storage, while packages are used for code execution.  \n",
    "    Answer: a  \n",
    "\n",
    "2.  What is the purpose of the `__init__.py` file in a Python package?  \n",
    "    a) It contains the main function of the package.  \n",
    "    b) It marks a directory as a Python package.  \n",
    "    c) It stores package metadata.  \n",
    "    d) It defines the package's dependencies.  \n",
    "    Answer: b  \n",
    "\n",
    "3.  How do you install external Python packages using `pip`?  \n",
    "    a) `python install package_name`  \n",
    "    b) `pip install package_name`  \n",
    "    c) `import install package_name`  \n",
    "    d) `run install package_name`  \n",
    "    Answer: b  \n",
    "\n",
    "4.  What does the `sys.path` list contain?  \n",
    "    a) A list of installed packages.  \n",
    "    b) A list of Python's built-in functions.  \n",
    "    c) A list of directories where Python looks for modules and packages.  \n",
    "    d) A list of environment variables.  \n",
    "    Answer: c  \n",
    "\n",
    "5.  How do namespace packages differ from regular packages?  \n",
    "    a) They are always installed using `conda`.  \n",
    "    b) They can span multiple directories without a common parent.  \n",
    "    c) They are used for low-level system programming.  \n",
    "    d) They only contain compiled C code.  \n",
    "    Answer: b  \n",
    "\n",
    "\n",
    "6.  Which of the following is NOT one of the four pillars of OOP?  \n",
    "    a) Encapsulation  \n",
    "    b) Inheritance  \n",
    "    c) Polymorphism  \n",
    "    d) Compilation  \n",
    "    Answer: d  \n",
    "\n",
    "7.  What is the difference between a class and an object?  \n",
    "    a) A class is an instance of an object.  \n",
    "    b) An object is a blueprint, and a class is an instance.  \n",
    "    c) A class is a blueprint, and an object is an instance.  \n",
    "    d) There is no difference; they are the same.  \n",
    "    Answer: c  \n",
    "\n",
    "8.  Which method is used as a constructor in Python?  \n",
    "    a) `__init__`  \n",
    "    b) `__del__`  \n",
    "    c) `__new__`  \n",
    "    d) `__create__`  \n",
    "    Answer: a  \n",
    "\n",
    "9.  What is method overriding in inheritance?  \n",
    "    a) Creating a new method in the parent class.  \n",
    "    b) Defining a method in the child class with the same name as a method in the parent class.  \n",
    "    c) Deleting a method from the parent class.  \n",
    "    d) Changing the name of a method in the parent class.  \n",
    "    Answer: b  \n",
    "\n",
    "10.  What is the primary difference between class methods and static methods?  \n",
    "    a) Class methods receive the class as the first argument, while static methods don't.  \n",
    "    b) Static methods receive the instance as the first argument, while class methods don't.  \n",
    "    c) Class methods can only access instance variables, while static methods can only access class variables.  \n",
    "    d) Class methods are used for creating instances, and static methods are used for destroying instances.  \n",
    "    Answer: a  \n",
    "\n",
    "11.  What does MRO stand for in Python's multiple inheritance?  \n",
    "    a) Method Resolution Order  \n",
    "    b) Module Runtime Optimization  \n",
    "    c) Memory Resource Overhead  \n",
    "    d) Main Recursive Operation  \n",
    "    Answer: a  \n",
    "\n",
    "12.  What is the purpose of abstract base classes (ABCs)?  \n",
    "    a) To create concrete classes.  \n",
    "    b) To define a common interface for subclasses.  \n",
    "    c) To store data.  \n",
    "    d) To optimize Python bytecode.  \n",
    "    Answer: b  \n",
    "\n",
    "13.  What is the `@property` decorator used for?  \n",
    "    a) To define static methods.  \n",
    "    b) To create getter and setter methods.  \n",
    "    c) To overload operators.  \n",
    "    d) To define abstract methods.  \n",
    "    Answer: b  \n",
    "\n",
    "14.  What is operator overloading in Python?  \n",
    "    a) Changing the order of operations in a function.  \n",
    "    b) Redefining how operators work with user-defined objects.  \n",
    "    c) Compiling Python code into machine code.  \n",
    "    d) Optimizing memory usage.  \n",
    "    Answer: b  \n",
    "\n",
    "15. What is the purpose of `super()` in inheritance?  \n",
    "    a) To create a new instance of a class.  \n",
    "    b) To call a method from the parent class.  \n",
    "    c) To delete an instance of a class.  \n",
    "    d) To access global variables.  \n",
    "    Answer: b  \n",
    "\n",
    "16.  What is the difference between positional and keyword arguments?  \n",
    "    a) Positional arguments are passed by name, and keyword arguments are passed by position.  \n",
    "    b) Keyword arguments are passed by name, and positional arguments are passed by position.  \n",
    "    c) Positional arguments are always optional, and keyword arguments are always required.  \n",
    "    d) There is no difference; they are interchangeable.  \n",
    "    Answer: b  \n",
    "\n",
    "17.  What are lambda functions used for?  \n",
    "    a) Defining named functions.  \n",
    "    b) Defining anonymous functions.  \n",
    "    c) Importing external libraries.  \n",
    "    d) Handling exceptions.  \n",
    "    Answer: b  \n",
    "\n",
    "18.  What is the scope of a variable defined inside a function?  \n",
    "    a) Global scope.  \n",
    "    b) Local scope.  \n",
    "    c) Nonlocal scope.  \n",
    "    d) Class scope.  \n",
    "    Answer: b  \n",
    "\n",
    "19.  What is a decorator in Python?  \n",
    "    a) A function that modifies the behavior of another function.  \n",
    "    b) A built-in data type.  \n",
    "    c) A loop control statement.  \n",
    "    d) An exception handling mechanism.  \n",
    "    Answer: a  \n",
    "\n",
    "20.  What is the purpose of `*args` and `**kwargs` in function definitions?  \n",
    "    a) To define default arguments.  \n",
    "    b) To pass a variable number of positional and keyword arguments.  \n",
    "    c) To handle exceptions.  \n",
    "    d) To define static variables.  \n",
    "    Answer: b\n",
    "\n",
    "21.  What is the primary purpose of list comprehensions?  \n",
    "    a) To define classes.  \n",
    "    b) To create new lists based on existing lists in a concise way.  \n",
    "    c) To handle exceptions.  \n",
    "    d) To define functions.  \n",
    "    Answer: b\n",
    "\n",
    "22.  What does the `enumerate()` function do?  \n",
    "    a) Sorts a list.  \n",
    "    b) Returns an iterator that yields index-value pairs.  \n",
    "    c) Filters a list.  \n",
    "    d) Reverses a list.  \n",
    "    Answer: b\n",
    "\n",
    "23.  What does the `zip()` function do?  \n",
    "    a) Sorts multiple iterables.  \n",
    "    b) Combines multiple iterables into a single iterable of tuples.  \n",
    "    c) Filters multiple iterables.  \n",
    "    d) Reverses multiple iterables.  \n",
    "    Answer: b\n",
    "\n",
    "24.  Which module provides `Counter` and `defaultdict`?  \n",
    "    a) `math`  \n",
    "    b) `os`  \n",
    "    c) `collections`  \n",
    "    d) `random`  \n",
    "    Answer: c\n",
    "\n",
    "25.  What is PEP 8?  \n",
    "    a) A Python error-handling standard.  \n",
    "    b) A Python enhancement proposal that outlines style guidelines.  \n",
    "    c) A Python database module.  \n",
    "    d) A Python networking library.  \n",
    "    Answer: b"
   ]
  },
  {
   "cell_type": "markdown",
   "metadata": {},
   "source": []
  },
  {
   "cell_type": "markdown",
   "metadata": {},
   "source": [
    "Collections module\n",
    "---------------------------\n",
    "\n",
    "The collections module in Python provides specialized container datatypes that offer alternatives to Python's general-purpose built-in containers 1  like dict, list, set, and tuple. 2  These specialized containers are designed to solve specific problems more efficiently and elegantly.  \n",
    "\n",
    "1. namedtuple\n",
    "\n",
    "Purpose: Creates tuple-like objects with named fields, making code more readable.\n",
    "\n",
    "Use Cases: Representing simple records, database rows, configuration settings.  \n",
    "\n",
    "Key Features:\n",
    "\n",
    "Immutable.\n",
    "Access fields by name or index.\n",
    "Lightweight compared to classes."
   ]
  },
  {
   "cell_type": "code",
   "execution_count": null,
   "metadata": {
    "vscode": {
     "languageId": "plaintext"
    }
   },
   "outputs": [],
   "source": [
    "from collections import namedtuple\n",
    "\n",
    "Point = namedtuple('Point', ['x', 'y'])\n",
    "p = Point(11, y=22)\n",
    "print(p.x, p.y)  # Access by name\n",
    "print(p[0], p[1]) # Access by index"
   ]
  },
  {
   "cell_type": "code",
   "execution_count": null,
   "metadata": {
    "vscode": {
     "languageId": "plaintext"
    }
   },
   "outputs": [],
   "source": []
  },
  {
   "cell_type": "markdown",
   "metadata": {},
   "source": [
    "deque (Double-Ended Queue)\n",
    "\n",
    "Purpose: Provides fast appends and pops from both ends of a sequence.\n",
    "\n",
    "Use Cases: Implementing queues, stacks, or any data structure requiring efficient insertion/deletion at both ends.  \n",
    "\n",
    "Key Features:\n",
    "\n",
    "append(), appendleft(), pop(), popleft() methods.\n",
    "Thread-safe.\n",
    "Efficient for operations on both ends."
   ]
  },
  {
   "cell_type": "code",
   "execution_count": null,
   "metadata": {
    "vscode": {
     "languageId": "plaintext"
    }
   },
   "outputs": [],
   "source": [
    "from collections import deque\n",
    "\n",
    "d = deque('ghi')\n",
    "d.append('j')\n",
    "d.appendleft('f')\n",
    "d.pop()\n",
    "d.popleft()\n",
    "print(d)"
   ]
  },
  {
   "cell_type": "markdown",
   "metadata": {},
   "source": [
    "ChainMap\n",
    "\n",
    "Purpose: Groups multiple dictionaries into a single, updateable view.\n",
    "\n",
    "Use Cases: Managing multiple contexts, such as user settings or environment variables.  \n",
    "\n",
    "Key Features:\n",
    "\n",
    "Looks up keys in the order they are passed.\n",
    "Modifications affect the first dictionary in the chain.  \n",
    "\n"
   ]
  },
  {
   "cell_type": "code",
   "execution_count": null,
   "metadata": {
    "vscode": {
     "languageId": "plaintext"
    }
   },
   "outputs": [],
   "source": [
    "from collections import ChainMap\n",
    "\n",
    "dict1 = {'a': 1, 'b': 2}\n",
    "dict2 = {'b': 3, 'c': 4}\n",
    "combined = ChainMap(dict1, dict2)\n",
    "print(combined['b'])  # Access keys from both dicts."
   ]
  },
  {
   "cell_type": "markdown",
   "metadata": {},
   "source": [
    "Counter\n",
    "\n",
    "Purpose: Counts hashable objects.\n",
    "\n",
    "Use Cases: Frequency analysis, counting occurrences of elements in a list or string.  \n",
    "\n",
    "Key Features:\n",
    "\n",
    "Stores elements as dictionary keys and their counts as values.\n",
    ".most_common() method."
   ]
  },
  {
   "cell_type": "code",
   "execution_count": null,
   "metadata": {
    "vscode": {
     "languageId": "plaintext"
    }
   },
   "outputs": [],
   "source": [
    "from collections import Counter\n",
    "\n",
    "c = Counter('abracadabra')\n",
    "print(c)\n",
    "print(c.most_common(2))  # Find the 2 most common elements."
   ]
  },
  {
   "cell_type": "markdown",
   "metadata": {},
   "source": [
    "OrderedDict\n",
    "\n",
    "Purpose: Remembers the order in which keys were inserted. (In python 3.7+ dictionaries retain insertion order, so this class is less used now)\n",
    "\n",
    "Use Cases: Maintaining the order of keys in dictionaries.  \n",
    "\n",
    "Key Features:\n",
    "\n",
    "Maintains insertion order.\n",
    "Behaves like a regular dictionary."
   ]
  },
  {
   "cell_type": "code",
   "execution_count": null,
   "metadata": {
    "vscode": {
     "languageId": "plaintext"
    }
   },
   "outputs": [],
   "source": [
    "from collections import OrderedDict\n",
    "\n",
    "d = OrderedDict()\n",
    "d['a'] = 1\n",
    "d['b'] = 2\n",
    "d['c'] = 3\n",
    "for key, value in d.items():\n",
    "    print(key, value)  # Prints in insertion order."
   ]
  },
  {
   "cell_type": "markdown",
   "metadata": {},
   "source": [
    "defaultdict\n",
    "\n",
    "Purpose: Provides default values for missing keys.\n",
    "\n",
    "Use Cases: Grouping items, counting items, or any situation where you need default values for dictionary keys.  \n",
    "\n",
    "Key Features:\n",
    "\n",
    "Automatically creates keys with default values.\n",
    "Reduces the need for if key in dict checks."
   ]
  },
  {
   "cell_type": "code",
   "execution_count": null,
   "metadata": {
    "vscode": {
     "languageId": "plaintext"
    }
   },
   "outputs": [],
   "source": [
    "from collections import defaultdict\n",
    "\n",
    "s = 'mississippi'\n",
    "d = defaultdict(int)  # Default value is 0 for int\n",
    "for k in s:\n",
    "    d[k] += 1\n",
    "print(d)"
   ]
  }
 ],
 "metadata": {
  "language_info": {
   "name": "python"
  }
 },
 "nbformat": 4,
 "nbformat_minor": 2
}
